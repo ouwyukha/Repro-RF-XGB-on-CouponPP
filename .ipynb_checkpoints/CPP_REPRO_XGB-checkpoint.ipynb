{
 "cells": [
  {
   "cell_type": "code",
   "execution_count": null,
   "metadata": {},
   "outputs": [],
   "source": [
    "import pandas as pd\n",
    "import os\n",
    "import numpy as np\n",
    "import itertools\n",
    "from xgboost import XGBClassifier\n",
    "from scipy.spatial.distance import euclidean\n",
    "import joblib\n",
    "\n",
    "pd.set_option('display.max_columns', None)"
   ]
  },
  {
   "cell_type": "code",
   "execution_count": null,
   "metadata": {},
   "outputs": [],
   "source": [
    "dsdir = 'dataset/coupon-purchase-prediction'"
   ]
  },
  {
   "cell_type": "code",
   "execution_count": null,
   "metadata": {
    "scrolled": false
   },
   "outputs": [],
   "source": [
    "train = pd.read_csv('CPP_REPRO_cl_train.csv').sample(frac=1, random_state=0).reset_index(drop=True)\n",
    "test =  pd.read_csv('CPP_REPRO_cl_test.csv')\n",
    "submission = pd.read_csv(os.path.join(dsdir,'sample_submission.csv'))"
   ]
  },
  {
   "cell_type": "code",
   "execution_count": null,
   "metadata": {},
   "outputs": [],
   "source": [
    "train.drop(['DISPFROM', 'DISPEND', 'VALIDFROM', 'VALIDEND', 'REG_DATE', 'WITHDRAW_DATE'], axis=1, inplace=True)\n",
    "test.drop(['DISPFROM', 'DISPEND', 'VALIDFROM', 'VALIDEND', 'REG_DATE', 'WITHDRAW_DATE'], axis=1, inplace=True)"
   ]
  },
  {
   "cell_type": "code",
   "execution_count": null,
   "metadata": {},
   "outputs": [],
   "source": [
    "train['SAME_PREF'] = train['PREF_NAME_COUPON'] == train['PREF_NAME_USER']\n",
    "test['SAME_PREF'] =  test['PREF_NAME_COUPON'] == test['PREF_NAME_USER']"
   ]
  },
  {
   "cell_type": "code",
   "execution_count": null,
   "metadata": {},
   "outputs": [],
   "source": [
    "def calc_euc(row):\n",
    "    return euclidean((row['LATITUDE_COUPON'],row['LONGITUDE_COUPON']),(row['LATITUDE_USER'],row['LONGITUDE_USER']))"
   ]
  },
  {
   "cell_type": "code",
   "execution_count": null,
   "metadata": {},
   "outputs": [],
   "source": [
    "print('TRAIN-LONGITUDE_DIST')\n",
    "train['LONGITUDE_DIST'] = train.apply(lambda x: x.LONGITUDE_COUPON - x.LONGITUDE_USER,axis=1)\n",
    "print('TRAIN-LATITUDE_DIST')\n",
    "train['LATITUDE_DIST'] = train.apply(lambda x: x.LATITUDE_COUPON - x.LATITUDE_USER,axis=1)\n",
    "print('TRAIN-EUCLIDEAN_DIST')\n",
    "train['EUCLIDEAN_DIST'] = train.apply(calc_euc,axis=1)\n",
    "\n",
    "test['LONGITUDE_DIST'] = train.apply(lambda x: x.LONGITUDE_COUPON - x.LONGITUDE_USER,axis=1)\n",
    "print('TEST-LONGITUDE_DIST')\n",
    "test['LATITUDE_DIST'] = train.apply(lambda x: x.LATITUDE_COUPON - x.LATITUDE_USER,axis=1)\n",
    "print('TEST-LATITUDE_DIST')\n",
    "test['EUCLIDEAN_DIST'] = train.apply(calc_euc,axis=1)\n",
    "print('TEST-EUCLIDEAN_DIST')"
   ]
  },
  {
   "cell_type": "code",
   "execution_count": null,
   "metadata": {},
   "outputs": [],
   "source": [
    "x_train = train.drop(['USER_ID_hash', 'COUPON_ID_hash', 'TARGET'],axis=1)\n",
    "y_train = train.TARGET.values.reshape(-1)\n",
    "\n",
    "x_test = test.drop(['USER_ID_hash', 'COUPON_ID_hash'],axis=1)"
   ]
  },
  {
   "cell_type": "code",
   "execution_count": null,
   "metadata": {},
   "outputs": [],
   "source": [
    "categoricals = x_train.dtypes[x_train.dtypes == 'object'].index.tolist()"
   ]
  },
  {
   "cell_type": "code",
   "execution_count": null,
   "metadata": {},
   "outputs": [],
   "source": [
    "categoricals"
   ]
  },
  {
   "cell_type": "code",
   "execution_count": null,
   "metadata": {},
   "outputs": [],
   "source": [
    "x_train_d = pd.get_dummies(x_train, columns=categoricals)\n",
    "x_test_d = pd.get_dummies(x_test, columns=categoricals)\n",
    "\n",
    "x_train_d, x_test_d = x_train_d.align(x_test_d, join='left', axis=1)\n",
    "\n",
    "x_train_d.fillna(0,inplace=True)\n",
    "x_test_d.fillna(0,inplace=True)"
   ]
  },
  {
   "cell_type": "code",
   "execution_count": null,
   "metadata": {},
   "outputs": [],
   "source": [
    "xgb = XGBClassifier(random_state=0, verbosity=1, n_jobs=-1, learning_rate=0.01, max_depth=24, subsample=0.8, scale_pos_weight=(len(y_train)-y_train.sum())/y_train.sum())"
   ]
  },
  {
   "cell_type": "code",
   "execution_count": null,
   "metadata": {},
   "outputs": [],
   "source": [
    "%%time\n",
    "xgb.fit(x_train_d, y_train)"
   ]
  },
  {
   "cell_type": "code",
   "execution_count": null,
   "metadata": {},
   "outputs": [],
   "source": [
    "joblib.dump(xgb,'CPP_REPO_XGB.mdl')"
   ]
  },
  {
   "cell_type": "code",
   "execution_count": null,
   "metadata": {},
   "outputs": [],
   "source": [
    "A=x_test_d.iloc[:len(x_test_d)//3]\n",
    "B=x_test_d.iloc[len(x_test_d)//3:len(x_test_d)//3*2]\n",
    "C=x_test_d.iloc[len(x_test_d)//3*2:]"
   ]
  },
  {
   "cell_type": "code",
   "execution_count": null,
   "metadata": {},
   "outputs": [],
   "source": [
    "y_predA = xgb.predict_proba(A)\n",
    "y_predB = xgb.predict_proba(B)\n",
    "y_predC = xgb.predict_proba(C)"
   ]
  },
  {
   "cell_type": "code",
   "execution_count": null,
   "metadata": {},
   "outputs": [],
   "source": [
    "y_pred = y_predA[:,1].tolist() + y_predB[:,1].tolist() + y_predC[:,1].tolist()"
   ]
  },
  {
   "cell_type": "code",
   "execution_count": null,
   "metadata": {},
   "outputs": [],
   "source": [
    "sub = test[['USER_ID_hash','COUPON_ID_hash']].copy()\n",
    "sub['TARGET'] = y_pred"
   ]
  },
  {
   "cell_type": "code",
   "execution_count": null,
   "metadata": {},
   "outputs": [],
   "source": [
    "grouped = sub.groupby('USER_ID_hash')"
   ]
  },
  {
   "cell_type": "code",
   "execution_count": null,
   "metadata": {},
   "outputs": [],
   "source": [
    "def get_top10(row):\n",
    "    pred = grouped.get_group(row.USER_ID_hash).sort_values(by=['TARGET'],ascending=False)\n",
    "    pred = ' '.join(map(str, pred.head(10).COUPON_ID_hash.values))\n",
    "    return pred"
   ]
  },
  {
   "cell_type": "code",
   "execution_count": null,
   "metadata": {},
   "outputs": [],
   "source": [
    "submission['PURCHASED_COUPONS'] = submission.apply(get_top10, axis=1)"
   ]
  },
  {
   "cell_type": "code",
   "execution_count": null,
   "metadata": {},
   "outputs": [],
   "source": [
    "submission.to_csv('sub_CPP_REPRO_XGB.csv', index=False)"
   ]
  },
  {
   "cell_type": "code",
   "execution_count": null,
   "metadata": {},
   "outputs": [],
   "source": [
    "submission"
   ]
  }
 ],
 "metadata": {
  "kernelspec": {
   "display_name": "Python 3",
   "language": "python",
   "name": "python3"
  },
  "language_info": {
   "codemirror_mode": {
    "name": "ipython",
    "version": 3
   },
   "file_extension": ".py",
   "mimetype": "text/x-python",
   "name": "python",
   "nbconvert_exporter": "python",
   "pygments_lexer": "ipython3",
   "version": "3.7.6"
  }
 },
 "nbformat": 4,
 "nbformat_minor": 4
}
