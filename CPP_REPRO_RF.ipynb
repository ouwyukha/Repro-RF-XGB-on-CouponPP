{
 "cells": [
  {
   "cell_type": "code",
   "execution_count": 1,
   "metadata": {},
   "outputs": [],
   "source": [
    "import pandas as pd\n",
    "import os\n",
    "import numpy as np\n",
    "from sklearn.ensemble import RandomForestClassifier\n",
    "import joblib\n",
    "from time import time\n",
    "from time import sleep\n",
    "\n",
    "pd.set_option('display.max_columns', None)"
   ]
  },
  {
   "cell_type": "markdown",
   "metadata": {},
   "source": [
    "# Load Data"
   ]
  },
  {
   "cell_type": "code",
   "execution_count": 2,
   "metadata": {},
   "outputs": [],
   "source": [
    "dsdir = 'dataset/coupon-purchase-prediction'"
   ]
  },
  {
   "cell_type": "code",
   "execution_count": 3,
   "metadata": {
    "scrolled": false
   },
   "outputs": [],
   "source": [
    "train = joblib.load('CPP_REPRO_cl_train.pkl').sample(frac=1, random_state=0).reset_index(drop=True)\n",
    "test =  joblib.load('CPP_REPRO_cl_test.pkl')\n",
    "submission = pd.read_csv(os.path.join(dsdir,'sample_submission.csv'))"
   ]
  },
  {
   "cell_type": "markdown",
   "metadata": {},
   "source": [
    "# Preprocess Some Columns"
   ]
  },
  {
   "cell_type": "code",
   "execution_count": 4,
   "metadata": {},
   "outputs": [],
   "source": [
    "train.drop(['DISPFROM', 'DISPEND', 'VALIDFROM', 'VALIDEND', 'REG_DATE', 'WITHDRAW_DATE'], axis=1, inplace=True)\n",
    "test.drop(['DISPFROM', 'DISPEND', 'VALIDFROM', 'VALIDEND', 'REG_DATE', 'WITHDRAW_DATE'], axis=1, inplace=True)"
   ]
  },
  {
   "cell_type": "code",
   "execution_count": 5,
   "metadata": {
    "scrolled": true
   },
   "outputs": [],
   "source": [
    "#train.drop(['USABLE_DATE_MON', 'USABLE_DATE_TUE', 'USABLE_DATE_WED', 'USABLE_DATE_THU', 'USABLE_DATE_FRI', 'USABLE_DATE_SAT', 'USABLE_DATE_SUN', 'USABLE_DATE_HOLIDAY', 'USABLE_DATE_BEFORE_HOLIDAY'], axis=1, inplace=True)\n",
    "#test.drop(['USABLE_DATE_MON', 'USABLE_DATE_TUE', 'USABLE_DATE_WED', 'USABLE_DATE_THU', 'USABLE_DATE_FRI', 'USABLE_DATE_SAT', 'USABLE_DATE_SUN', 'USABLE_DATE_HOLIDAY', 'USABLE_DATE_BEFORE_HOLIDAY'], axis=1, inplace=True)"
   ]
  },
  {
   "cell_type": "code",
   "execution_count": 6,
   "metadata": {},
   "outputs": [],
   "source": [
    "x_train = train.drop(['USER_ID_hash', 'COUPON_ID_hash', 'TARGET'],axis=1)\n",
    "y_train = train.TARGET.values.reshape(-1)\n",
    "\n",
    "x_test = test.drop(['USER_ID_hash', 'COUPON_ID_hash'],axis=1)"
   ]
  },
  {
   "cell_type": "code",
   "execution_count": 7,
   "metadata": {},
   "outputs": [],
   "source": [
    "categoricals = x_train.dtypes[x_train.dtypes == 'category'].index.tolist()"
   ]
  },
  {
   "cell_type": "code",
   "execution_count": 8,
   "metadata": {},
   "outputs": [
    {
     "data": {
      "text/plain": [
       "['CAPSULE_TEXT',\n",
       " 'GENRE_NAME',\n",
       " 'LARGE_AREA_NAME',\n",
       " 'PREF_NAME_COUPON',\n",
       " 'SMALL_AREA_NAME',\n",
       " 'SEX_ID',\n",
       " 'PREF_NAME_USER']"
      ]
     },
     "execution_count": 8,
     "metadata": {},
     "output_type": "execute_result"
    }
   ],
   "source": [
    "categoricals"
   ]
  },
  {
   "cell_type": "code",
   "execution_count": 9,
   "metadata": {},
   "outputs": [],
   "source": [
    "x_train_d = pd.get_dummies(x_train, columns=categoricals)\n",
    "x_test_d = pd.get_dummies(x_test, columns=categoricals)\n",
    "\n",
    "x_train_d, x_test_d = x_train_d.align(x_test_d, join='left', axis=1)\n",
    "\n",
    "x_train_d.fillna(0,inplace=True)\n",
    "x_test_d.fillna(0,inplace=True)"
   ]
  },
  {
   "cell_type": "markdown",
   "metadata": {},
   "source": [
    "# Train"
   ]
  },
  {
   "cell_type": "code",
   "execution_count": 10,
   "metadata": {},
   "outputs": [],
   "source": [
    "rfc = RandomForestClassifier(random_state=0, verbose=1, n_jobs=-1, n_estimators=240, class_weight=\"balanced_subsample\")"
   ]
  },
  {
   "cell_type": "code",
   "execution_count": 11,
   "metadata": {},
   "outputs": [
    {
     "name": "stderr",
     "output_type": "stream",
     "text": [
      "[Parallel(n_jobs=-1)]: Using backend ThreadingBackend with 12 concurrent workers.\n",
      "[Parallel(n_jobs=-1)]: Done  26 tasks      | elapsed:   55.0s\n",
      "[Parallel(n_jobs=-1)]: Done 176 tasks      | elapsed:  4.3min\n",
      "[Parallel(n_jobs=-1)]: Done 240 out of 240 | elapsed:  5.6min finished\n"
     ]
    },
    {
     "data": {
      "text/plain": [
       "RandomForestClassifier(bootstrap=True, ccp_alpha=0.0,\n",
       "                       class_weight='balanced_subsample', criterion='gini',\n",
       "                       max_depth=None, max_features='auto', max_leaf_nodes=None,\n",
       "                       max_samples=None, min_impurity_decrease=0.0,\n",
       "                       min_impurity_split=None, min_samples_leaf=1,\n",
       "                       min_samples_split=2, min_weight_fraction_leaf=0.0,\n",
       "                       n_estimators=240, n_jobs=-1, oob_score=False,\n",
       "                       random_state=0, verbose=1, warm_start=False)"
      ]
     },
     "execution_count": 11,
     "metadata": {},
     "output_type": "execute_result"
    }
   ],
   "source": [
    "rfc.fit(x_train_d, y_train)"
   ]
  },
  {
   "cell_type": "code",
   "execution_count": 12,
   "metadata": {},
   "outputs": [
    {
     "data": {
      "text/plain": [
       "array([0, 1], dtype=int64)"
      ]
     },
     "execution_count": 12,
     "metadata": {},
     "output_type": "execute_result"
    }
   ],
   "source": [
    "rfc.classes_"
   ]
  },
  {
   "cell_type": "code",
   "execution_count": 13,
   "metadata": {},
   "outputs": [
    {
     "data": {
      "text/plain": [
       "['CPP_REPO_RF.mdl']"
      ]
     },
     "execution_count": 13,
     "metadata": {},
     "output_type": "execute_result"
    }
   ],
   "source": [
    "joblib.dump(rfc,'CPP_REPO_RF.mdl')"
   ]
  },
  {
   "cell_type": "markdown",
   "metadata": {},
   "source": [
    "# Predict"
   ]
  },
  {
   "cell_type": "code",
   "execution_count": 14,
   "metadata": {
    "scrolled": true
   },
   "outputs": [
    {
     "name": "stderr",
     "output_type": "stream",
     "text": [
      "[Parallel(n_jobs=12)]: Using backend ThreadingBackend with 12 concurrent workers.\n",
      "[Parallel(n_jobs=12)]: Done  26 tasks      | elapsed:    5.4s\n",
      "[Parallel(n_jobs=12)]: Done 176 tasks      | elapsed:   29.2s\n",
      "[Parallel(n_jobs=12)]: Done 240 out of 240 | elapsed:   39.8s finished\n"
     ]
    },
    {
     "name": "stdout",
     "output_type": "stream",
     "text": [
      "Wall time: 4min 18s\n"
     ]
    }
   ],
   "source": [
    "%%time\n",
    "y_pred = rfc.predict_proba(x_test_d)"
   ]
  },
  {
   "cell_type": "markdown",
   "metadata": {},
   "source": [
    "# Convert to Submission Format"
   ]
  },
  {
   "cell_type": "code",
   "execution_count": 15,
   "metadata": {},
   "outputs": [
    {
     "name": "stderr",
     "output_type": "stream",
     "text": [
      "C:\\Users\\Yukha\\.conda\\envs\\tensor\\lib\\site-packages\\ipykernel_launcher.py:2: SettingWithCopyWarning: \n",
      "A value is trying to be set on a copy of a slice from a DataFrame.\n",
      "Try using .loc[row_indexer,col_indexer] = value instead\n",
      "\n",
      "See the caveats in the documentation: https://pandas.pydata.org/pandas-docs/stable/user_guide/indexing.html#returning-a-view-versus-a-copy\n",
      "  \n"
     ]
    }
   ],
   "source": [
    "sub = test[['USER_ID_hash','COUPON_ID_hash']]\n",
    "sub['TARGET'] = y_pred[:,1]"
   ]
  },
  {
   "cell_type": "code",
   "execution_count": 16,
   "metadata": {},
   "outputs": [],
   "source": [
    "grouped = sub.groupby('USER_ID_hash')"
   ]
  },
  {
   "cell_type": "code",
   "execution_count": 17,
   "metadata": {},
   "outputs": [],
   "source": [
    "def get_top10(row):\n",
    "    pred = grouped.get_group(row.USER_ID_hash).sort_values(by=['TARGET'],ascending=False)\n",
    "    pred = ' '.join(map(str, pred.head(10).COUPON_ID_hash.values))\n",
    "    return pred"
   ]
  },
  {
   "cell_type": "code",
   "execution_count": 18,
   "metadata": {},
   "outputs": [],
   "source": [
    "submission['PURCHASED_COUPONS'] = submission.apply(get_top10, axis=1)"
   ]
  },
  {
   "cell_type": "code",
   "execution_count": 19,
   "metadata": {},
   "outputs": [],
   "source": [
    "sub_name = 'sub_CPP_REPRO_RF_'+str(int(time()))+'.csv'"
   ]
  },
  {
   "cell_type": "code",
   "execution_count": 20,
   "metadata": {},
   "outputs": [],
   "source": [
    "submission.to_csv(sub_name, index=False)"
   ]
  },
  {
   "cell_type": "code",
   "execution_count": 21,
   "metadata": {
    "scrolled": true
   },
   "outputs": [
    {
     "data": {
      "text/html": [
       "<div>\n",
       "<style scoped>\n",
       "    .dataframe tbody tr th:only-of-type {\n",
       "        vertical-align: middle;\n",
       "    }\n",
       "\n",
       "    .dataframe tbody tr th {\n",
       "        vertical-align: top;\n",
       "    }\n",
       "\n",
       "    .dataframe thead th {\n",
       "        text-align: right;\n",
       "    }\n",
       "</style>\n",
       "<table border=\"1\" class=\"dataframe\">\n",
       "  <thead>\n",
       "    <tr style=\"text-align: right;\">\n",
       "      <th></th>\n",
       "      <th>USER_ID_hash</th>\n",
       "      <th>PURCHASED_COUPONS</th>\n",
       "    </tr>\n",
       "  </thead>\n",
       "  <tbody>\n",
       "    <tr>\n",
       "      <th>0</th>\n",
       "      <td>0000b53e182165208887ba65c079fc21</td>\n",
       "      <td>281326ffac6d5dd2eec24f7bde0078d7 98dc8da9b3c7c...</td>\n",
       "    </tr>\n",
       "    <tr>\n",
       "      <th>1</th>\n",
       "      <td>00035b86e6884589ec8d28fbf2fe7757</td>\n",
       "      <td>fc5f052a1bd97696fbcab35d8d974b73 f5a77f2907876...</td>\n",
       "    </tr>\n",
       "    <tr>\n",
       "      <th>2</th>\n",
       "      <td>0005b1068d5f2b8f2a7c978fcfe1ca06</td>\n",
       "      <td>96d275611439e0029db651a914965ea3 9bfec8781a9c9...</td>\n",
       "    </tr>\n",
       "    <tr>\n",
       "      <th>3</th>\n",
       "      <td>000cc06982785a19e2a2fdb40b1c9d59</td>\n",
       "      <td>79de77aa8c36fdf17cb3366e2084e353 0e917a0e87224...</td>\n",
       "    </tr>\n",
       "    <tr>\n",
       "      <th>4</th>\n",
       "      <td>0013518e41c416cd6a181d277dd8ca0b</td>\n",
       "      <td>c988d799bc7db9254fe865ee6cf2d4ff 3b4635dc97035...</td>\n",
       "    </tr>\n",
       "    <tr>\n",
       "      <th>...</th>\n",
       "      <td>...</td>\n",
       "      <td>...</td>\n",
       "    </tr>\n",
       "    <tr>\n",
       "      <th>22868</th>\n",
       "      <td>fff1a623187cefd7a594e338709b0f40</td>\n",
       "      <td>51da52d5516033bea13972588b671184 42cc500acba3c...</td>\n",
       "    </tr>\n",
       "    <tr>\n",
       "      <th>22869</th>\n",
       "      <td>fff4a076cfda6ff9dbe85e1cb678791b</td>\n",
       "      <td>79de77aa8c36fdf17cb3366e2084e353 8c470d8651dbc...</td>\n",
       "    </tr>\n",
       "    <tr>\n",
       "      <th>22870</th>\n",
       "      <td>fff970d2014c3e10a77e38d540239017</td>\n",
       "      <td>0acc89ba7593ed787e3439b7f05884c2 f0685cf6de3c1...</td>\n",
       "    </tr>\n",
       "    <tr>\n",
       "      <th>22871</th>\n",
       "      <td>fffafc024e264d5d539813444cf61199</td>\n",
       "      <td>8e14f145efa75ff816ff9543c063eeb1 27741884a086e...</td>\n",
       "    </tr>\n",
       "    <tr>\n",
       "      <th>22872</th>\n",
       "      <td>ffff56dbf3c782c3532f88c6c79817ba</td>\n",
       "      <td>27741884a086e2864936d7ef680becc2 09ec991661af3...</td>\n",
       "    </tr>\n",
       "  </tbody>\n",
       "</table>\n",
       "<p>22873 rows × 2 columns</p>\n",
       "</div>"
      ],
      "text/plain": [
       "                           USER_ID_hash  \\\n",
       "0      0000b53e182165208887ba65c079fc21   \n",
       "1      00035b86e6884589ec8d28fbf2fe7757   \n",
       "2      0005b1068d5f2b8f2a7c978fcfe1ca06   \n",
       "3      000cc06982785a19e2a2fdb40b1c9d59   \n",
       "4      0013518e41c416cd6a181d277dd8ca0b   \n",
       "...                                 ...   \n",
       "22868  fff1a623187cefd7a594e338709b0f40   \n",
       "22869  fff4a076cfda6ff9dbe85e1cb678791b   \n",
       "22870  fff970d2014c3e10a77e38d540239017   \n",
       "22871  fffafc024e264d5d539813444cf61199   \n",
       "22872  ffff56dbf3c782c3532f88c6c79817ba   \n",
       "\n",
       "                                       PURCHASED_COUPONS  \n",
       "0      281326ffac6d5dd2eec24f7bde0078d7 98dc8da9b3c7c...  \n",
       "1      fc5f052a1bd97696fbcab35d8d974b73 f5a77f2907876...  \n",
       "2      96d275611439e0029db651a914965ea3 9bfec8781a9c9...  \n",
       "3      79de77aa8c36fdf17cb3366e2084e353 0e917a0e87224...  \n",
       "4      c988d799bc7db9254fe865ee6cf2d4ff 3b4635dc97035...  \n",
       "...                                                  ...  \n",
       "22868  51da52d5516033bea13972588b671184 42cc500acba3c...  \n",
       "22869  79de77aa8c36fdf17cb3366e2084e353 8c470d8651dbc...  \n",
       "22870  0acc89ba7593ed787e3439b7f05884c2 f0685cf6de3c1...  \n",
       "22871  8e14f145efa75ff816ff9543c063eeb1 27741884a086e...  \n",
       "22872  27741884a086e2864936d7ef680becc2 09ec991661af3...  \n",
       "\n",
       "[22873 rows x 2 columns]"
      ]
     },
     "execution_count": 21,
     "metadata": {},
     "output_type": "execute_result"
    }
   ],
   "source": [
    "submission"
   ]
  },
  {
   "cell_type": "code",
   "execution_count": 22,
   "metadata": {},
   "outputs": [
    {
     "name": "stdout",
     "output_type": "stream",
     "text": [
      "Successfully submitted to Coupon Purchase Prediction\n"
     ]
    },
    {
     "name": "stderr",
     "output_type": "stream",
     "text": [
      "\n",
      "  0%|          | 0.00/7.94M [00:00<?, ?B/s]\n",
      "  1%|1         | 88.0k/7.94M [00:00<00:09, 866kB/s]\n",
      "  2%|1         | 152k/7.94M [00:00<00:10, 789kB/s] \n",
      "  3%|2         | 224k/7.94M [00:00<00:10, 766kB/s]\n",
      "  3%|3         | 272k/7.94M [00:01<00:45, 178kB/s]\n",
      "  4%|3         | 312k/7.94M [00:01<01:06, 120kB/s]\n",
      "  4%|4         | 352k/7.94M [00:02<01:10, 113kB/s]\n",
      "  5%|4         | 392k/7.94M [00:02<01:16, 104kB/s]\n",
      "  5%|5         | 432k/7.94M [00:02<01:17, 102kB/s]\n",
      "  6%|5         | 464k/7.94M [00:03<01:21, 96.0kB/s]\n",
      "  6%|5         | 480k/7.94M [00:03<01:12, 108kB/s] \n",
      "  6%|6         | 504k/7.94M [00:03<01:31, 85.5kB/s]\n",
      "  7%|6         | 536k/7.94M [00:04<01:11, 109kB/s] \n",
      "  7%|6         | 560k/7.94M [00:04<01:28, 88.0kB/s]\n",
      "  7%|7         | 584k/7.94M [00:04<01:42, 75.5kB/s]\n",
      "  8%|7         | 616k/7.94M [00:04<01:20, 95.6kB/s]\n",
      "  8%|7         | 632k/7.94M [00:05<02:03, 62.2kB/s]\n",
      "  8%|8         | 672k/7.94M [00:05<01:31, 83.1kB/s]\n",
      "  9%|8         | 696k/7.94M [00:06<01:46, 71.5kB/s]\n",
      "  9%|8         | 720k/7.94M [00:06<01:49, 69.0kB/s]\n",
      "  9%|9         | 744k/7.94M [00:06<01:30, 83.2kB/s]\n",
      "  9%|9         | 768k/7.94M [00:06<01:43, 72.7kB/s]\n",
      " 10%|9         | 800k/7.94M [00:07<01:19, 94.6kB/s]\n",
      " 10%|#         | 824k/7.94M [00:07<01:37, 77.0kB/s]\n",
      " 10%|#         | 848k/7.94M [00:07<01:18, 95.5kB/s]\n",
      " 11%|#         | 864k/7.94M [00:08<02:00, 62.0kB/s]\n",
      " 11%|#1        | 896k/7.94M [00:08<01:30, 81.7kB/s]\n",
      " 11%|#1        | 920k/7.94M [00:08<01:41, 72.8kB/s]\n",
      " 12%|#1        | 936k/7.94M [00:09<02:01, 60.4kB/s]\n",
      " 12%|#1        | 968k/7.94M [00:09<01:33, 78.6kB/s]\n",
      " 12%|#2        | 984k/7.94M [00:09<01:58, 61.8kB/s]\n",
      " 12%|#2        | 0.98M/7.94M [00:09<01:31, 79.7kB/s]\n",
      " 13%|#2        | 1.00M/7.94M [00:10<01:55, 63.3kB/s]\n",
      " 13%|#2        | 1.03M/7.94M [00:10<01:51, 64.7kB/s]\n",
      " 13%|#3        | 1.06M/7.94M [00:10<01:25, 84.2kB/s]\n",
      " 14%|#3        | 1.08M/7.94M [00:11<01:54, 62.8kB/s]\n",
      " 14%|#3        | 1.11M/7.94M [00:11<01:26, 82.3kB/s]\n",
      " 14%|#4        | 1.13M/7.94M [00:11<01:37, 73.3kB/s]\n",
      " 15%|#4        | 1.16M/7.94M [00:11<01:41, 70.3kB/s]\n",
      " 15%|#4        | 1.18M/7.94M [00:12<01:20, 88.3kB/s]\n",
      " 15%|#5        | 1.20M/7.94M [00:12<01:35, 74.2kB/s]\n",
      " 15%|#5        | 1.22M/7.94M [00:12<01:27, 80.2kB/s]\n",
      " 16%|#5        | 1.26M/7.94M [00:13<01:22, 84.7kB/s]\n",
      " 16%|#6        | 1.29M/7.94M [00:13<01:05, 107kB/s] \n",
      " 16%|#6        | 1.30M/7.94M [00:13<01:35, 73.2kB/s]\n",
      " 17%|#6        | 1.34M/7.94M [00:13<01:14, 93.3kB/s]\n",
      " 17%|#7        | 1.36M/7.94M [00:14<01:28, 78.0kB/s]\n",
      " 18%|#7        | 1.39M/7.94M [00:14<01:28, 77.7kB/s]\n",
      " 18%|#7        | 1.41M/7.94M [00:14<01:11, 96.3kB/s]\n",
      " 18%|#8        | 1.44M/7.94M [00:15<01:26, 78.6kB/s]\n",
      " 18%|#8        | 1.47M/7.94M [00:15<01:08, 98.4kB/s]\n",
      " 19%|#8        | 1.48M/7.94M [00:15<01:38, 69.0kB/s]\n",
      " 19%|#8        | 1.50M/7.94M [00:15<01:22, 82.1kB/s]\n",
      " 19%|#9        | 1.52M/7.94M [00:16<01:48, 62.3kB/s]\n",
      " 19%|#9        | 1.53M/7.94M [00:16<01:28, 75.8kB/s]\n",
      " 20%|#9        | 1.56M/7.94M [00:16<01:35, 70.1kB/s]\n",
      " 20%|##        | 1.59M/7.94M [00:17<01:14, 89.1kB/s]\n",
      " 20%|##        | 1.61M/7.94M [00:17<01:38, 67.7kB/s]\n",
      " 21%|##        | 1.64M/7.94M [00:17<01:37, 68.1kB/s]\n",
      " 21%|##        | 1.66M/7.94M [00:18<01:16, 86.3kB/s]\n",
      " 21%|##1       | 1.68M/7.94M [00:18<01:43, 63.6kB/s]\n",
      " 22%|##1       | 1.71M/7.94M [00:18<01:18, 82.9kB/s]\n",
      " 22%|##1       | 1.73M/7.94M [00:18<01:38, 65.9kB/s]\n",
      " 22%|##2       | 1.76M/7.94M [00:19<01:36, 67.2kB/s]\n",
      " 23%|##2       | 1.79M/7.94M [00:19<01:15, 85.5kB/s]\n",
      " 23%|##2       | 1.80M/7.94M [00:19<01:40, 63.9kB/s]\n",
      " 23%|##3       | 1.84M/7.94M [00:20<01:37, 65.8kB/s]\n",
      " 24%|##3       | 1.87M/7.94M [00:20<01:14, 85.9kB/s]\n",
      " 24%|##3       | 1.88M/7.94M [00:20<01:41, 62.3kB/s]\n",
      " 24%|##4       | 1.92M/7.94M [00:21<01:33, 67.4kB/s]\n",
      " 25%|##4       | 1.96M/7.94M [00:21<01:27, 71.8kB/s]\n",
      " 25%|##5       | 2.01M/7.94M [00:22<01:20, 77.2kB/s]\n",
      " 26%|##5       | 2.05M/7.94M [00:22<01:01, 100kB/s] \n",
      " 26%|##6       | 2.07M/7.94M [00:22<01:14, 82.2kB/s]\n",
      " 26%|##6       | 2.09M/7.94M [00:23<01:23, 73.5kB/s]\n",
      " 27%|##6       | 2.12M/7.94M [00:23<01:04, 94.7kB/s]\n",
      " 27%|##7       | 2.15M/7.94M [00:23<01:16, 79.7kB/s]\n",
      " 27%|##7       | 2.18M/7.94M [00:24<01:17, 77.8kB/s]\n",
      " 28%|##7       | 2.22M/7.94M [00:24<01:13, 81.5kB/s]\n",
      " 28%|##8       | 2.26M/7.94M [00:25<01:12, 82.6kB/s]\n",
      " 29%|##8       | 2.30M/7.94M [00:25<01:11, 82.3kB/s]\n",
      " 29%|##9       | 2.32M/7.94M [00:25<00:57, 102kB/s] \n",
      " 29%|##9       | 2.34M/7.94M [00:26<00:51, 113kB/s]\n",
      " 30%|##9       | 2.35M/7.94M [00:26<01:19, 73.3kB/s]\n",
      " 30%|###       | 2.38M/7.94M [00:26<01:18, 73.8kB/s]\n",
      " 30%|###       | 2.41M/7.94M [00:27<01:20, 72.2kB/s]\n",
      " 31%|###       | 2.45M/7.94M [00:27<01:15, 76.1kB/s]\n",
      " 31%|###1      | 2.49M/7.94M [00:28<01:11, 79.5kB/s]\n",
      " 32%|###1      | 2.53M/7.94M [00:28<01:10, 80.8kB/s]\n",
      " 32%|###2      | 2.57M/7.94M [00:29<01:08, 82.2kB/s]\n",
      " 33%|###2      | 2.61M/7.94M [00:29<00:52, 105kB/s] \n",
      " 33%|###3      | 2.62M/7.94M [00:29<01:18, 70.8kB/s]\n",
      " 33%|###3      | 2.66M/7.94M [00:30<01:16, 72.2kB/s]\n",
      " 34%|###3      | 2.70M/7.94M [00:30<01:12, 76.3kB/s]\n",
      " 34%|###4      | 2.73M/7.94M [00:31<01:08, 79.9kB/s]\n",
      " 35%|###4      | 2.77M/7.94M [00:31<01:06, 81.1kB/s]\n",
      " 36%|###5      | 2.82M/7.94M [00:32<01:01, 87.9kB/s]\n",
      " 36%|###5      | 2.85M/7.94M [00:32<00:47, 112kB/s] \n",
      " 36%|###6      | 2.88M/7.94M [00:32<00:59, 89.1kB/s]\n",
      " 37%|###6      | 2.90M/7.94M [00:33<01:10, 74.8kB/s]\n",
      " 37%|###6      | 2.94M/7.94M [00:33<01:08, 76.5kB/s]\n",
      " 38%|###7      | 2.98M/7.94M [00:34<01:02, 83.1kB/s]\n",
      " 38%|###8      | 3.02M/7.94M [00:34<01:02, 82.4kB/s]\n",
      " 39%|###8      | 3.06M/7.94M [00:34<00:48, 106kB/s] \n",
      " 39%|###8      | 3.08M/7.94M [00:35<01:09, 73.2kB/s]\n",
      " 39%|###9      | 3.11M/7.94M [00:35<01:07, 74.7kB/s]\n",
      " 40%|###9      | 3.15M/7.94M [00:35<01:05, 76.1kB/s]\n",
      " 40%|####      | 3.18M/7.94M [00:36<00:51, 96.9kB/s]\n",
      " 40%|####      | 3.20M/7.94M [00:36<01:11, 69.3kB/s]\n",
      " 41%|####      | 3.23M/7.94M [00:36<00:54, 90.6kB/s]\n",
      " 41%|####      | 3.25M/7.94M [00:36<01:02, 78.4kB/s]\n",
      " 41%|####1     | 3.27M/7.94M [00:37<01:20, 61.2kB/s]\n",
      " 42%|####1     | 3.30M/7.94M [00:37<01:14, 65.7kB/s]\n",
      " 42%|####1     | 3.33M/7.94M [00:38<01:11, 68.1kB/s]\n",
      " 42%|####2     | 3.37M/7.94M [00:38<01:04, 74.0kB/s]\n",
      " 43%|####2     | 3.41M/7.94M [00:39<01:01, 77.5kB/s]\n",
      " 43%|####3     | 3.45M/7.94M [00:39<00:46, 102kB/s] \n",
      " 44%|####3     | 3.47M/7.94M [00:39<01:00, 78.0kB/s]\n",
      " 44%|####3     | 3.49M/7.94M [00:40<01:07, 69.2kB/s]\n",
      " 44%|####4     | 3.53M/7.94M [00:40<00:52, 88.5kB/s]\n",
      " 45%|####4     | 3.55M/7.94M [00:40<01:10, 65.8kB/s]\n",
      " 45%|####4     | 3.57M/7.94M [00:41<01:10, 65.4kB/s]\n",
      " 45%|####5     | 3.61M/7.94M [00:41<01:03, 71.1kB/s]\n",
      " 46%|####5     | 3.65M/7.94M [00:42<00:58, 76.9kB/s]\n",
      " 46%|####6     | 3.68M/7.94M [00:42<00:58, 75.8kB/s]\n",
      " 47%|####6     | 3.71M/7.94M [00:42<00:58, 75.7kB/s]\n",
      " 47%|####7     | 3.74M/7.94M [00:43<01:00, 73.1kB/s]\n",
      " 48%|####7     | 3.78M/7.94M [00:43<00:56, 77.5kB/s]\n",
      " 48%|####8     | 3.82M/7.94M [00:44<00:53, 80.5kB/s]\n",
      " 49%|####8     | 3.86M/7.94M [00:44<00:51, 82.9kB/s]\n",
      " 49%|####9     | 3.90M/7.94M [00:45<00:48, 87.1kB/s]\n",
      " 49%|####9     | 3.93M/7.94M [00:45<00:38, 110kB/s] \n",
      " 50%|####9     | 3.95M/7.94M [00:45<01:02, 67.3kB/s]\n",
      " 50%|#####     | 3.98M/7.94M [00:46<00:58, 71.6kB/s]\n",
      " 51%|#####     | 4.02M/7.94M [00:46<00:55, 74.2kB/s]\n",
      " 51%|#####1    | 4.05M/7.94M [00:46<00:41, 97.7kB/s]\n",
      " 51%|#####1    | 4.08M/7.94M [00:47<00:48, 83.0kB/s]\n",
      " 52%|#####1    | 4.10M/7.94M [00:47<00:59, 68.0kB/s]\n",
      " 52%|#####2    | 4.14M/7.94M [00:48<00:55, 72.4kB/s]\n",
      " 53%|#####2    | 4.18M/7.94M [00:48<00:52, 75.7kB/s]\n",
      " 53%|#####3    | 4.23M/7.94M [00:49<00:47, 81.7kB/s]\n",
      " 54%|#####3    | 4.27M/7.94M [00:49<00:36, 106kB/s] \n",
      " 54%|#####4    | 4.29M/7.94M [00:49<00:45, 84.6kB/s]\n",
      " 54%|#####4    | 4.31M/7.94M [00:50<00:49, 77.2kB/s]\n",
      " 55%|#####4    | 4.35M/7.94M [00:50<00:39, 95.0kB/s]\n",
      " 55%|#####5    | 4.37M/7.94M [00:50<00:53, 69.4kB/s]\n",
      " 55%|#####5    | 4.40M/7.94M [00:51<00:52, 70.8kB/s]\n",
      " 56%|#####5    | 4.44M/7.94M [00:51<00:50, 72.9kB/s]\n",
      " 56%|#####6    | 4.48M/7.94M [00:52<00:45, 79.0kB/s]\n",
      " 57%|#####6    | 4.52M/7.94M [00:52<00:44, 80.3kB/s]\n",
      " 57%|#####7    | 4.55M/7.94M [00:52<00:34, 103kB/s] \n",
      " 57%|#####7    | 4.56M/7.94M [00:53<00:49, 71.3kB/s]\n",
      " 58%|#####7    | 4.59M/7.94M [00:53<00:49, 71.2kB/s]\n",
      " 58%|#####8    | 4.63M/7.94M [00:53<00:45, 76.3kB/s]\n",
      " 59%|#####8    | 4.67M/7.94M [00:54<00:44, 77.6kB/s]\n",
      " 59%|#####9    | 4.71M/7.94M [00:54<00:33, 100kB/s] \n",
      " 60%|#####9    | 4.73M/7.94M [00:54<00:48, 69.8kB/s]\n",
      " 60%|#####9    | 4.76M/7.94M [00:55<00:47, 70.3kB/s]\n",
      " 60%|######    | 4.80M/7.94M [00:55<00:43, 75.7kB/s]\n",
      " 61%|######    | 4.82M/7.94M [00:55<00:34, 94.3kB/s]\n",
      " 61%|######    | 4.84M/7.94M [00:56<00:47, 69.1kB/s]\n",
      " 61%|######1   | 4.88M/7.94M [00:56<00:44, 72.4kB/s]\n",
      " 62%|######1   | 4.91M/7.94M [00:57<00:41, 77.1kB/s]\n",
      " 62%|######2   | 4.94M/7.94M [00:57<00:33, 93.7kB/s]\n",
      " 62%|######2   | 4.96M/7.94M [00:57<00:40, 77.8kB/s]\n",
      " 63%|######2   | 5.00M/7.94M [00:58<00:37, 81.3kB/s]\n",
      " 63%|######3   | 5.03M/7.94M [00:58<00:37, 82.1kB/s]\n",
      " 64%|######3   | 5.07M/7.94M [00:59<00:36, 82.4kB/s]\n",
      " 64%|######4   | 5.12M/7.94M [00:59<00:34, 86.0kB/s]\n",
      " 65%|######4   | 5.16M/7.94M [01:00<00:33, 87.2kB/s]\n",
      " 65%|######5   | 5.19M/7.94M [01:00<00:25, 112kB/s] \n",
      " 66%|######5   | 5.20M/7.94M [01:00<00:41, 70.0kB/s]\n",
      " 66%|######6   | 5.24M/7.94M [01:01<00:37, 75.5kB/s]\n",
      " 67%|######6   | 5.28M/7.94M [01:01<00:35, 78.8kB/s]\n",
      " 67%|######6   | 5.31M/7.94M [01:02<00:34, 79.0kB/s]\n",
      " 67%|######7   | 5.35M/7.94M [01:02<00:27, 100kB/s] \n",
      " 68%|######7   | 5.37M/7.94M [01:02<00:37, 71.3kB/s]\n",
      " 68%|######7   | 5.39M/7.94M [01:02<00:39, 68.5kB/s]\n",
      " 68%|######8   | 5.42M/7.94M [01:03<00:31, 84.8kB/s]\n",
      " 68%|######8   | 5.44M/7.94M [01:03<00:40, 64.9kB/s]\n",
      " 69%|######8   | 5.47M/7.94M [01:03<00:30, 85.4kB/s]\n",
      " 69%|######9   | 5.49M/7.94M [01:04<00:33, 76.2kB/s]\n",
      " 69%|######9   | 5.52M/7.94M [01:04<00:36, 69.0kB/s]\n",
      " 70%|######9   | 5.55M/7.94M [01:04<00:34, 73.4kB/s]\n",
      " 70%|#######   | 5.59M/7.94M [01:05<00:25, 95.4kB/s]\n",
      " 71%|#######   | 5.61M/7.94M [01:05<00:30, 80.1kB/s]\n",
      " 71%|#######   | 5.63M/7.94M [01:05<00:32, 73.3kB/s]\n",
      " 71%|#######1  | 5.67M/7.94M [01:06<00:25, 92.6kB/s]\n",
      " 72%|#######1  | 5.69M/7.94M [01:06<00:34, 68.2kB/s]\n",
      " 72%|#######2  | 5.73M/7.94M [01:06<00:32, 72.3kB/s]\n",
      " 73%|#######2  | 5.77M/7.94M [01:07<00:29, 77.1kB/s]\n",
      " 73%|#######3  | 5.80M/7.94M [01:07<00:28, 77.8kB/s]\n",
      " 74%|#######3  | 5.84M/7.94M [01:08<00:27, 80.6kB/s]\n",
      " 74%|#######4  | 5.89M/7.94M [01:08<00:25, 84.2kB/s]\n",
      " 75%|#######4  | 5.93M/7.94M [01:09<00:24, 85.3kB/s]\n",
      " 75%|#######5  | 5.97M/7.94M [01:09<00:23, 88.2kB/s]\n",
      " 76%|#######5  | 6.00M/7.94M [01:09<00:18, 112kB/s] \n",
      " 76%|#######5  | 6.02M/7.94M [01:10<00:28, 70.2kB/s]\n",
      " 76%|#######6  | 6.05M/7.94M [01:10<00:21, 91.4kB/s]\n",
      " 76%|#######6  | 6.07M/7.94M [01:10<00:24, 78.8kB/s]\n",
      " 77%|#######6  | 6.09M/7.94M [01:11<00:30, 63.8kB/s]\n",
      " 77%|#######7  | 6.12M/7.94M [01:11<00:23, 82.2kB/s]\n",
      " 77%|#######7  | 6.13M/7.94M [01:11<00:29, 64.5kB/s]\n",
      " 78%|#######7  | 6.16M/7.94M [01:12<00:28, 64.4kB/s]\n",
      " 78%|#######8  | 6.20M/7.94M [01:12<00:25, 71.1kB/s]\n",
      " 79%|#######8  | 6.23M/7.94M [01:12<00:19, 92.1kB/s]\n",
      " 79%|#######8  | 6.25M/7.94M [01:12<00:16, 105kB/s] \n",
      " 79%|#######8  | 6.27M/7.94M [01:13<00:24, 72.4kB/s]\n",
      " 79%|#######9  | 6.30M/7.94M [01:13<00:23, 72.7kB/s]\n",
      " 80%|#######9  | 6.34M/7.94M [01:14<00:21, 76.7kB/s]\n",
      " 80%|########  | 6.38M/7.94M [01:14<00:16, 101kB/s] \n",
      " 81%|########  | 6.40M/7.94M [01:14<00:20, 78.6kB/s]\n",
      " 81%|########  | 6.43M/7.94M [01:15<00:20, 76.5kB/s]\n",
      " 81%|########1 | 6.46M/7.94M [01:15<00:19, 77.8kB/s]\n",
      " 82%|########1 | 6.51M/7.94M [01:16<00:18, 83.1kB/s]\n",
      " 82%|########2 | 6.54M/7.94M [01:16<00:17, 82.7kB/s]\n",
      " 83%|########2 | 6.58M/7.94M [01:16<00:13, 105kB/s] \n",
      " 83%|########3 | 6.59M/7.94M [01:17<00:19, 72.9kB/s]\n",
      " 83%|########3 | 6.62M/7.94M [01:17<00:19, 72.4kB/s]\n",
      " 84%|########3 | 6.66M/7.94M [01:17<00:14, 94.0kB/s]\n",
      " 84%|########4 | 6.68M/7.94M [01:18<00:16, 78.1kB/s]\n",
      " 84%|########4 | 6.70M/7.94M [01:18<00:19, 67.0kB/s]\n",
      " 85%|########4 | 6.73M/7.94M [01:18<00:17, 70.4kB/s]\n",
      " 85%|########5 | 6.77M/7.94M [01:19<00:16, 76.2kB/s]\n",
      " 86%|########5 | 6.81M/7.94M [01:19<00:14, 82.3kB/s]\n",
      " 86%|########6 | 6.85M/7.94M [01:20<00:13, 82.3kB/s]\n",
      " 87%|########6 | 6.88M/7.94M [01:20<00:10, 105kB/s] \n",
      " 87%|########6 | 6.91M/7.94M [01:20<00:13, 82.5kB/s]\n",
      " 87%|########7 | 6.94M/7.94M [01:20<00:09, 106kB/s] \n",
      " 88%|########7 | 6.96M/7.94M [01:21<00:12, 79.2kB/s]\n",
      " 88%|########8 | 6.99M/7.94M [01:21<00:12, 79.6kB/s]\n",
      " 89%|########8 | 7.03M/7.94M [01:22<00:11, 80.9kB/s]\n",
      " 89%|########9 | 7.07M/7.94M [01:22<00:08, 103kB/s] \n",
      " 89%|########9 | 7.09M/7.94M [01:22<00:12, 70.7kB/s]\n",
      " 90%|########9 | 7.12M/7.94M [01:23<00:12, 71.7kB/s]\n",
      " 90%|######### | 7.16M/7.94M [01:23<00:10, 76.3kB/s]\n",
      " 91%|######### | 7.20M/7.94M [01:24<00:09, 79.6kB/s]\n",
      " 91%|#########1| 7.23M/7.94M [01:24<00:08, 85.4kB/s]\n",
      " 92%|#########1| 7.27M/7.94M [01:24<00:06, 106kB/s] \n",
      " 92%|#########1| 7.28M/7.94M [01:25<00:09, 71.6kB/s]\n",
      " 92%|#########2| 7.31M/7.94M [01:25<00:09, 72.3kB/s]\n",
      " 93%|#########2| 7.35M/7.94M [01:26<00:08, 75.2kB/s]\n",
      " 93%|#########3| 7.39M/7.94M [01:26<00:05, 97.8kB/s]\n",
      " 93%|#########3| 7.41M/7.94M [01:26<00:06, 82.4kB/s]\n",
      " 94%|#########3| 7.44M/7.94M [01:27<00:07, 73.9kB/s]\n",
      " 94%|#########4| 7.47M/7.94M [01:27<00:05, 96.2kB/s]\n",
      " 94%|#########4| 7.49M/7.94M [01:27<00:05, 80.0kB/s]\n",
      " 95%|#########4| 7.52M/7.94M [01:27<00:06, 72.4kB/s]\n",
      " 95%|#########5| 7.55M/7.94M [01:28<00:05, 76.5kB/s]\n",
      " 96%|#########5| 7.59M/7.94M [01:28<00:04, 80.5kB/s]\n",
      " 96%|#########6| 7.63M/7.94M [01:29<00:04, 78.6kB/s]\n",
      " 97%|#########6| 7.68M/7.94M [01:29<00:03, 86.1kB/s]\n",
      " 97%|#########7| 7.72M/7.94M [01:29<00:02, 112kB/s] \n",
      " 98%|#########7| 7.74M/7.94M [01:30<00:02, 86.0kB/s]\n",
      " 98%|#########7| 7.77M/7.94M [01:30<00:02, 73.7kB/s]\n",
      " 98%|#########8| 7.81M/7.94M [01:31<00:01, 81.5kB/s]\n",
      " 99%|#########8| 7.84M/7.94M [01:31<00:01, 79.8kB/s]\n",
      " 99%|#########8| 7.86M/7.94M [01:31<00:00, 90.9kB/s]\n",
      " 99%|#########9| 7.89M/7.94M [01:32<00:00, 85.1kB/s]\n",
      "100%|#########9| 7.92M/7.94M [01:32<00:00, 109kB/s] \n",
      "100%|##########| 7.94M/7.94M [01:32<00:00, 71.5kB/s]\n",
      "100%|##########| 7.94M/7.94M [01:36<00:00, 86.3kB/s]\n"
     ]
    }
   ],
   "source": [
    "!kaggle competitions submit -c coupon-purchase-prediction -f $sub_name -m $sub_name"
   ]
  },
  {
   "cell_type": "code",
   "execution_count": 24,
   "metadata": {},
   "outputs": [
    {
     "name": "stdout",
     "output_type": "stream",
     "text": [
      "Private : 0.00584 \t|\tPublic : 0.00585\n"
     ]
    }
   ],
   "source": [
    "found = False\n",
    "while 1:\n",
    "    submission_list = !kaggle competitions submissions -c coupon-purchase-prediction\n",
    "    for sub_row in submission_list:\n",
    "        if sub_name in sub_row and 'complete' in sub_row:\n",
    "            scores = sub_row[sub_row.find('complete')+10:].split()\n",
    "            print('Private :',scores[1],'\\t|\\tPublic :',scores[0])\n",
    "            found = True\n",
    "            break\n",
    "    if found:\n",
    "        break\n",
    "    sleep(10)"
   ]
  },
  {
   "cell_type": "code",
   "execution_count": null,
   "metadata": {},
   "outputs": [],
   "source": []
  }
 ],
 "metadata": {
  "kernelspec": {
   "display_name": "Python 3",
   "language": "python",
   "name": "python3"
  },
  "language_info": {
   "codemirror_mode": {
    "name": "ipython",
    "version": 3
   },
   "file_extension": ".py",
   "mimetype": "text/x-python",
   "name": "python",
   "nbconvert_exporter": "python",
   "pygments_lexer": "ipython3",
   "version": "3.7.6"
  }
 },
 "nbformat": 4,
 "nbformat_minor": 4
}
