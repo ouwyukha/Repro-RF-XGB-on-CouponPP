{
 "cells": [
  {
   "cell_type": "code",
   "execution_count": 1,
   "metadata": {},
   "outputs": [],
   "source": [
    "import pandas as pd\n",
    "import os\n",
    "import numpy as np\n",
    "import itertools\n",
    "from sklearn.ensemble import RandomForestClassifier\n",
    "from scipy.spatial.distance import euclidean\n",
    "import joblib\n",
    "\n",
    "pd.set_option('display.max_columns', None)"
   ]
  },
  {
   "cell_type": "code",
   "execution_count": 2,
   "metadata": {},
   "outputs": [],
   "source": [
    "dsdir = 'dataset/coupon-purchase-prediction'"
   ]
  },
  {
   "cell_type": "code",
   "execution_count": 3,
   "metadata": {
    "scrolled": false
   },
   "outputs": [],
   "source": [
    "train = pd.read_csv('CPP_REPRO_cl_train.csv').sample(frac=1, random_state=0).reset_index(drop=True)\n",
    "test =  pd.read_csv('CPP_REPRO_cl_test.csv')\n",
    "submission = pd.read_csv(os.path.join(dsdir,'sample_submission.csv'))"
   ]
  },
  {
   "cell_type": "code",
   "execution_count": 4,
   "metadata": {},
   "outputs": [],
   "source": [
    "#train.DISPFROM = pd.to_datetime(train.DISPFROM)\n",
    "#train.DISPEND = pd.to_datetime(train.DISPEND)\n",
    "#train.VALIDFROM = pd.to_datetime(train.VALIDFROM)\n",
    "#train.VALIDEND = pd.to_datetime(train.VALIDEND)\n",
    "#train.REG_DATE = pd.to_datetime(train.REG_DATE)\n",
    "#train.WITHDRAW_DATE = pd.to_datetime(train.WITHDRAW_DATE)\n",
    "\n",
    "#test.DISPFROM = pd.to_datetime(test.DISPFROM)\n",
    "#test.DISPEND = pd.to_datetime(test.DISPEND)\n",
    "#test.VALIDFROM = pd.to_datetime(test.VALIDFROM)\n",
    "#test.VALIDEND = pd.to_datetime(test.VALIDEND)\n",
    "#test.REG_DATE = pd.to_datetime(test.REG_DATE)\n",
    "#test.WITHDRAW_DATE = pd.to_datetime(test.WITHDRAW_DATE)"
   ]
  },
  {
   "cell_type": "code",
   "execution_count": 5,
   "metadata": {},
   "outputs": [],
   "source": [
    "train.drop(['DISPFROM', 'DISPEND', 'VALIDFROM', 'VALIDEND', 'REG_DATE', 'WITHDRAW_DATE'], axis=1, inplace=True)\n",
    "test.drop(['DISPFROM', 'DISPEND', 'VALIDFROM', 'VALIDEND', 'REG_DATE', 'WITHDRAW_DATE'], axis=1, inplace=True)"
   ]
  },
  {
   "cell_type": "code",
   "execution_count": 6,
   "metadata": {
    "scrolled": true
   },
   "outputs": [],
   "source": [
    "#train.drop(['USABLE_DATE_MON', 'USABLE_DATE_TUE', 'USABLE_DATE_WED', 'USABLE_DATE_THU', 'USABLE_DATE_FRI', 'USABLE_DATE_SAT', 'USABLE_DATE_SUN', 'USABLE_DATE_HOLIDAY', 'USABLE_DATE_BEFORE_HOLIDAY'], axis=1, inplace=True)\n",
    "#test.drop(['USABLE_DATE_MON', 'USABLE_DATE_TUE', 'USABLE_DATE_WED', 'USABLE_DATE_THU', 'USABLE_DATE_FRI', 'USABLE_DATE_SAT', 'USABLE_DATE_SUN', 'USABLE_DATE_HOLIDAY', 'USABLE_DATE_BEFORE_HOLIDAY'], axis=1, inplace=True)"
   ]
  },
  {
   "cell_type": "code",
   "execution_count": 7,
   "metadata": {},
   "outputs": [],
   "source": [
    "train['SAME_PREF'] = train['PREF_NAME_COUPON'] == train['PREF_NAME_USER']\n",
    "test['SAME_PREF'] =  test['PREF_NAME_COUPON'] == test['PREF_NAME_USER']"
   ]
  },
  {
   "cell_type": "code",
   "execution_count": 8,
   "metadata": {},
   "outputs": [],
   "source": [
    "def calc_euc(row):\n",
    "    return euclidean((row['LATITUDE_COUPON'],row['LONGITUDE_COUPON']),(row['LATITUDE_USER'],row['LONGITUDE_USER']))"
   ]
  },
  {
   "cell_type": "code",
   "execution_count": 9,
   "metadata": {},
   "outputs": [
    {
     "name": "stdout",
     "output_type": "stream",
     "text": [
      "TRAIN-LONGITUDE_DIST\n",
      "TRAIN-LATITUDE_DIST\n",
      "TRAIN-EUCLIDEAN_DIST\n",
      "TEST-LONGITUDE_DIST\n",
      "TEST-LATITUDE_DIST\n",
      "TEST-EUCLIDEAN_DIST\n"
     ]
    }
   ],
   "source": [
    "print('TRAIN-LONGITUDE_DIST')\n",
    "train['LONGITUDE_DIST'] = train.apply(lambda x: x.LONGITUDE_COUPON - x.LONGITUDE_USER,axis=1)\n",
    "print('TRAIN-LATITUDE_DIST')\n",
    "train['LATITUDE_DIST'] = train.apply(lambda x: x.LATITUDE_COUPON - x.LATITUDE_USER,axis=1)\n",
    "print('TRAIN-EUCLIDEAN_DIST')\n",
    "train['EUCLIDEAN_DIST'] = train.apply(calc_euc,axis=1)\n",
    "\n",
    "test['LONGITUDE_DIST'] = test.apply(lambda x: x.LONGITUDE_COUPON - x.LONGITUDE_USER,axis=1)\n",
    "print('TEST-LONGITUDE_DIST')\n",
    "test['LATITUDE_DIST'] = test.apply(lambda x: x.LATITUDE_COUPON - x.LATITUDE_USER,axis=1)\n",
    "print('TEST-LATITUDE_DIST')\n",
    "test['EUCLIDEAN_DIST'] = test.apply(calc_euc,axis=1)\n",
    "print('TEST-EUCLIDEAN_DIST')"
   ]
  },
  {
   "cell_type": "code",
   "execution_count": 10,
   "metadata": {},
   "outputs": [],
   "source": [
    "train.to_csv('CPP_REPRO_cl_train_PLUSPLUS.csv', index=False)\n",
    "test.to_csv('CPP_REPRO_cl_test_PLUSPLUS.csv', index=False)"
   ]
  },
  {
   "cell_type": "code",
   "execution_count": 11,
   "metadata": {},
   "outputs": [],
   "source": [
    "x_train = train.drop(['USER_ID_hash', 'COUPON_ID_hash', 'TARGET'],axis=1)\n",
    "y_train = train.TARGET.values.reshape(-1)\n",
    "\n",
    "x_test = test.drop(['USER_ID_hash', 'COUPON_ID_hash'],axis=1)"
   ]
  },
  {
   "cell_type": "code",
   "execution_count": 12,
   "metadata": {},
   "outputs": [],
   "source": [
    "categoricals = x_train.dtypes[x_train.dtypes == 'object'].index.tolist()"
   ]
  },
  {
   "cell_type": "code",
   "execution_count": 13,
   "metadata": {},
   "outputs": [
    {
     "data": {
      "text/plain": [
       "['CAPSULE_TEXT',\n",
       " 'GENRE_NAME',\n",
       " 'LARGE_AREA_NAME',\n",
       " 'PREF_NAME_COUPON',\n",
       " 'SMALL_AREA_NAME',\n",
       " 'SEX_ID',\n",
       " 'PREF_NAME_USER']"
      ]
     },
     "execution_count": 13,
     "metadata": {},
     "output_type": "execute_result"
    }
   ],
   "source": [
    "categoricals"
   ]
  },
  {
   "cell_type": "code",
   "execution_count": 14,
   "metadata": {},
   "outputs": [],
   "source": [
    "x_train_d = pd.get_dummies(x_train, columns=categoricals)\n",
    "x_test_d = pd.get_dummies(x_test, columns=categoricals)\n",
    "\n",
    "x_train_d, x_test_d = x_train_d.align(x_test_d, join='left', axis=1)\n",
    "\n",
    "x_train_d.fillna(0,inplace=True)\n",
    "x_test_d.fillna(0,inplace=True)"
   ]
  },
  {
   "cell_type": "code",
   "execution_count": 15,
   "metadata": {},
   "outputs": [],
   "source": [
    "rfc = RandomForestClassifier(random_state=0, verbose=1, n_jobs=-1, n_estimators=240, class_weight=\"balanced_subsample\")"
   ]
  },
  {
   "cell_type": "code",
   "execution_count": 16,
   "metadata": {},
   "outputs": [
    {
     "name": "stderr",
     "output_type": "stream",
     "text": [
      "[Parallel(n_jobs=-1)]: Using backend ThreadingBackend with 12 concurrent workers.\n",
      "[Parallel(n_jobs=-1)]: Done  26 tasks      | elapsed:   49.9s\n",
      "[Parallel(n_jobs=-1)]: Done 176 tasks      | elapsed:  4.2min\n",
      "[Parallel(n_jobs=-1)]: Done 240 out of 240 | elapsed:  5.5min finished\n"
     ]
    },
    {
     "data": {
      "text/plain": [
       "RandomForestClassifier(bootstrap=True, ccp_alpha=0.0,\n",
       "                       class_weight='balanced_subsample', criterion='gini',\n",
       "                       max_depth=None, max_features='auto', max_leaf_nodes=None,\n",
       "                       max_samples=None, min_impurity_decrease=0.0,\n",
       "                       min_impurity_split=None, min_samples_leaf=1,\n",
       "                       min_samples_split=2, min_weight_fraction_leaf=0.0,\n",
       "                       n_estimators=240, n_jobs=-1, oob_score=False,\n",
       "                       random_state=0, verbose=1, warm_start=False)"
      ]
     },
     "execution_count": 16,
     "metadata": {},
     "output_type": "execute_result"
    }
   ],
   "source": [
    "rfc.fit(x_train_d, y_train)"
   ]
  },
  {
   "cell_type": "code",
   "execution_count": 17,
   "metadata": {},
   "outputs": [
    {
     "data": {
      "text/plain": [
       "array([0, 1], dtype=int64)"
      ]
     },
     "execution_count": 17,
     "metadata": {},
     "output_type": "execute_result"
    }
   ],
   "source": [
    "rfc.classes_"
   ]
  },
  {
   "cell_type": "code",
   "execution_count": 18,
   "metadata": {},
   "outputs": [
    {
     "data": {
      "text/plain": [
       "['CPP_REPO_RF.mdl']"
      ]
     },
     "execution_count": 18,
     "metadata": {},
     "output_type": "execute_result"
    }
   ],
   "source": [
    "joblib.dump(rfc,'CPP_REPO_RF.mdl')"
   ]
  },
  {
   "cell_type": "code",
   "execution_count": 19,
   "metadata": {},
   "outputs": [
    {
     "name": "stderr",
     "output_type": "stream",
     "text": [
      "[Parallel(n_jobs=12)]: Using backend ThreadingBackend with 12 concurrent workers.\n",
      "[Parallel(n_jobs=12)]: Done  26 tasks      | elapsed:    5.5s\n",
      "[Parallel(n_jobs=12)]: Done 176 tasks      | elapsed:   29.2s\n",
      "[Parallel(n_jobs=12)]: Done 240 out of 240 | elapsed:   39.5s finished\n"
     ]
    },
    {
     "name": "stdout",
     "output_type": "stream",
     "text": [
      "Wall time: 5min 54s\n"
     ]
    }
   ],
   "source": [
    "%%time\n",
    "y_pred = rfc.predict_proba(x_test_d)"
   ]
  },
  {
   "cell_type": "code",
   "execution_count": 20,
   "metadata": {},
   "outputs": [
    {
     "name": "stderr",
     "output_type": "stream",
     "text": [
      "C:\\Users\\Yukha\\.conda\\envs\\tensor\\lib\\site-packages\\ipykernel_launcher.py:2: SettingWithCopyWarning: \n",
      "A value is trying to be set on a copy of a slice from a DataFrame.\n",
      "Try using .loc[row_indexer,col_indexer] = value instead\n",
      "\n",
      "See the caveats in the documentation: https://pandas.pydata.org/pandas-docs/stable/user_guide/indexing.html#returning-a-view-versus-a-copy\n",
      "  \n"
     ]
    }
   ],
   "source": [
    "sub = test[['USER_ID_hash','COUPON_ID_hash']]\n",
    "sub['TARGET'] = y_pred[:,1]"
   ]
  },
  {
   "cell_type": "code",
   "execution_count": 21,
   "metadata": {},
   "outputs": [],
   "source": [
    "grouped = sub.groupby('USER_ID_hash')"
   ]
  },
  {
   "cell_type": "code",
   "execution_count": 22,
   "metadata": {},
   "outputs": [],
   "source": [
    "def get_top10(row):\n",
    "    pred = grouped.get_group(row.USER_ID_hash).sort_values(by=['TARGET'],ascending=False)\n",
    "    pred = ' '.join(map(str, pred.head(10).COUPON_ID_hash.values))\n",
    "    return pred"
   ]
  },
  {
   "cell_type": "code",
   "execution_count": 23,
   "metadata": {},
   "outputs": [],
   "source": [
    "submission['PURCHASED_COUPONS'] = submission.apply(get_top10, axis=1)"
   ]
  },
  {
   "cell_type": "code",
   "execution_count": 24,
   "metadata": {},
   "outputs": [],
   "source": [
    "submission.to_csv('sub_CPP_REPRO_RF.csv', index=False)"
   ]
  },
  {
   "cell_type": "code",
   "execution_count": 25,
   "metadata": {
    "scrolled": true
   },
   "outputs": [
    {
     "data": {
      "text/html": [
       "<div>\n",
       "<style scoped>\n",
       "    .dataframe tbody tr th:only-of-type {\n",
       "        vertical-align: middle;\n",
       "    }\n",
       "\n",
       "    .dataframe tbody tr th {\n",
       "        vertical-align: top;\n",
       "    }\n",
       "\n",
       "    .dataframe thead th {\n",
       "        text-align: right;\n",
       "    }\n",
       "</style>\n",
       "<table border=\"1\" class=\"dataframe\">\n",
       "  <thead>\n",
       "    <tr style=\"text-align: right;\">\n",
       "      <th></th>\n",
       "      <th>USER_ID_hash</th>\n",
       "      <th>PURCHASED_COUPONS</th>\n",
       "    </tr>\n",
       "  </thead>\n",
       "  <tbody>\n",
       "    <tr>\n",
       "      <th>0</th>\n",
       "      <td>0000b53e182165208887ba65c079fc21</td>\n",
       "      <td>98dc8da9b3c7ca94aeaa398aef52784f 281326ffac6d5...</td>\n",
       "    </tr>\n",
       "    <tr>\n",
       "      <th>1</th>\n",
       "      <td>00035b86e6884589ec8d28fbf2fe7757</td>\n",
       "      <td>f5a77f2907876411752d58e1b9030023 fc5f052a1bd97...</td>\n",
       "    </tr>\n",
       "    <tr>\n",
       "      <th>2</th>\n",
       "      <td>0005b1068d5f2b8f2a7c978fcfe1ca06</td>\n",
       "      <td>96d275611439e0029db651a914965ea3 9bfec8781a9c9...</td>\n",
       "    </tr>\n",
       "    <tr>\n",
       "      <th>3</th>\n",
       "      <td>000cc06982785a19e2a2fdb40b1c9d59</td>\n",
       "      <td>79de77aa8c36fdf17cb3366e2084e353 0e917a0e87224...</td>\n",
       "    </tr>\n",
       "    <tr>\n",
       "      <th>4</th>\n",
       "      <td>0013518e41c416cd6a181d277dd8ca0b</td>\n",
       "      <td>c988d799bc7db9254fe865ee6cf2d4ff 46da51ba6dd20...</td>\n",
       "    </tr>\n",
       "    <tr>\n",
       "      <th>...</th>\n",
       "      <td>...</td>\n",
       "      <td>...</td>\n",
       "    </tr>\n",
       "    <tr>\n",
       "      <th>22868</th>\n",
       "      <td>fff1a623187cefd7a594e338709b0f40</td>\n",
       "      <td>51da52d5516033bea13972588b671184 42cc500acba3c...</td>\n",
       "    </tr>\n",
       "    <tr>\n",
       "      <th>22869</th>\n",
       "      <td>fff4a076cfda6ff9dbe85e1cb678791b</td>\n",
       "      <td>98dc8da9b3c7ca94aeaa398aef52784f 79de77aa8c36f...</td>\n",
       "    </tr>\n",
       "    <tr>\n",
       "      <th>22870</th>\n",
       "      <td>fff970d2014c3e10a77e38d540239017</td>\n",
       "      <td>f0685cf6de3c1e1fd86d2f10784b85f5 0acc89ba7593e...</td>\n",
       "    </tr>\n",
       "    <tr>\n",
       "      <th>22871</th>\n",
       "      <td>fffafc024e264d5d539813444cf61199</td>\n",
       "      <td>c60dbd64087f40d46d539a96947d0e87 27741884a086e...</td>\n",
       "    </tr>\n",
       "    <tr>\n",
       "      <th>22872</th>\n",
       "      <td>ffff56dbf3c782c3532f88c6c79817ba</td>\n",
       "      <td>27741884a086e2864936d7ef680becc2 09ec991661af3...</td>\n",
       "    </tr>\n",
       "  </tbody>\n",
       "</table>\n",
       "<p>22873 rows × 2 columns</p>\n",
       "</div>"
      ],
      "text/plain": [
       "                           USER_ID_hash  \\\n",
       "0      0000b53e182165208887ba65c079fc21   \n",
       "1      00035b86e6884589ec8d28fbf2fe7757   \n",
       "2      0005b1068d5f2b8f2a7c978fcfe1ca06   \n",
       "3      000cc06982785a19e2a2fdb40b1c9d59   \n",
       "4      0013518e41c416cd6a181d277dd8ca0b   \n",
       "...                                 ...   \n",
       "22868  fff1a623187cefd7a594e338709b0f40   \n",
       "22869  fff4a076cfda6ff9dbe85e1cb678791b   \n",
       "22870  fff970d2014c3e10a77e38d540239017   \n",
       "22871  fffafc024e264d5d539813444cf61199   \n",
       "22872  ffff56dbf3c782c3532f88c6c79817ba   \n",
       "\n",
       "                                       PURCHASED_COUPONS  \n",
       "0      98dc8da9b3c7ca94aeaa398aef52784f 281326ffac6d5...  \n",
       "1      f5a77f2907876411752d58e1b9030023 fc5f052a1bd97...  \n",
       "2      96d275611439e0029db651a914965ea3 9bfec8781a9c9...  \n",
       "3      79de77aa8c36fdf17cb3366e2084e353 0e917a0e87224...  \n",
       "4      c988d799bc7db9254fe865ee6cf2d4ff 46da51ba6dd20...  \n",
       "...                                                  ...  \n",
       "22868  51da52d5516033bea13972588b671184 42cc500acba3c...  \n",
       "22869  98dc8da9b3c7ca94aeaa398aef52784f 79de77aa8c36f...  \n",
       "22870  f0685cf6de3c1e1fd86d2f10784b85f5 0acc89ba7593e...  \n",
       "22871  c60dbd64087f40d46d539a96947d0e87 27741884a086e...  \n",
       "22872  27741884a086e2864936d7ef680becc2 09ec991661af3...  \n",
       "\n",
       "[22873 rows x 2 columns]"
      ]
     },
     "execution_count": 25,
     "metadata": {},
     "output_type": "execute_result"
    }
   ],
   "source": [
    "submission"
   ]
  }
 ],
 "metadata": {
  "kernelspec": {
   "display_name": "Python 3",
   "language": "python",
   "name": "python3"
  },
  "language_info": {
   "codemirror_mode": {
    "name": "ipython",
    "version": 3
   },
   "file_extension": ".py",
   "mimetype": "text/x-python",
   "name": "python",
   "nbconvert_exporter": "python",
   "pygments_lexer": "ipython3",
   "version": "3.7.6"
  }
 },
 "nbformat": 4,
 "nbformat_minor": 4
}
