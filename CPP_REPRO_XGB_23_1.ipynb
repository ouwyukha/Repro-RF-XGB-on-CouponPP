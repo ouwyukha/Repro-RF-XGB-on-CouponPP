{
 "cells": [
  {
   "cell_type": "code",
   "execution_count": 1,
   "metadata": {},
   "outputs": [],
   "source": [
    "import pandas as pd\n",
    "import os\n",
    "import numpy as np\n",
    "import itertools\n",
    "import xgboost as xgb\n",
    "from scipy.spatial.distance import euclidean\n",
    "import joblib\n",
    "import datetime\n",
    "\n",
    "pd.set_option('display.max_columns', None)"
   ]
  },
  {
   "cell_type": "markdown",
   "metadata": {},
   "source": [
    "# Load Data"
   ]
  },
  {
   "cell_type": "code",
   "execution_count": null,
   "metadata": {},
   "outputs": [],
   "source": [
    "dsdir = 'dataset/coupon-purchase-prediction'"
   ]
  },
  {
   "cell_type": "code",
   "execution_count": null,
   "metadata": {
    "scrolled": false
   },
   "outputs": [],
   "source": [
    "train = pd.read_csv('CPP_REPRO_cl_train.csv').sample(frac=1, random_state=0).reset_index(drop=True)\n",
    "test =  pd.read_csv('CPP_REPRO_cl_test.csv')\n",
    "submission = pd.read_csv(os.path.join(dsdir,'sample_submission.csv'))"
   ]
  },
  {
   "cell_type": "markdown",
   "metadata": {},
   "source": [
    "# Preprocess Some Columns"
   ]
  },
  {
   "cell_type": "code",
   "execution_count": null,
   "metadata": {},
   "outputs": [],
   "source": [
    "train.DISPFROM = pd.to_datetime(train.DISPFROM)\n",
    "train.DISPEND = pd.to_datetime(train.DISPEND)\n",
    "train.VALIDFROM = pd.to_datetime(train.VALIDFROM)\n",
    "train.VALIDEND = pd.to_datetime(train.VALIDEND)\n",
    "train.REG_DATE = pd.to_datetime(train.REG_DATE)\n",
    "train.WITHDRAW_DATE = pd.to_datetime(train.WITHDRAW_DATE)\n",
    "\n",
    "test.DISPFROM = pd.to_datetime(test.DISPFROM)\n",
    "test.DISPEND = pd.to_datetime(test.DISPEND)\n",
    "test.VALIDFROM = pd.to_datetime(test.VALIDFROM)\n",
    "test.VALIDEND = pd.to_datetime(test.VALIDEND)\n",
    "test.REG_DATE = pd.to_datetime(test.REG_DATE)\n",
    "test.WITHDRAW_DATE = pd.to_datetime(test.WITHDRAW_DATE)"
   ]
  },
  {
   "cell_type": "code",
   "execution_count": null,
   "metadata": {},
   "outputs": [],
   "source": [
    "train.drop(['DISPEND', 'VALIDFROM', 'VALIDEND', 'REG_DATE', 'WITHDRAW_DATE'], axis=1, inplace=True)\n",
    "test.drop(['DISPFROM', 'DISPEND', 'VALIDFROM', 'VALIDEND', 'REG_DATE', 'WITHDRAW_DATE'], axis=1, inplace=True)"
   ]
  },
  {
   "cell_type": "code",
   "execution_count": null,
   "metadata": {},
   "outputs": [],
   "source": [
    "#train.drop(['USABLE_DATE_MON', 'USABLE_DATE_TUE', 'USABLE_DATE_WED', 'USABLE_DATE_THU', 'USABLE_DATE_FRI', 'USABLE_DATE_SAT', 'USABLE_DATE_SUN', 'USABLE_DATE_HOLIDAY', 'USABLE_DATE_BEFORE_HOLIDAY'], axis=1, inplace=True)\n",
    "#test.drop(['USABLE_DATE_MON', 'USABLE_DATE_TUE', 'USABLE_DATE_WED', 'USABLE_DATE_THU', 'USABLE_DATE_FRI', 'USABLE_DATE_SAT', 'USABLE_DATE_SUN', 'USABLE_DATE_HOLIDAY', 'USABLE_DATE_BEFORE_HOLIDAY'], axis=1, inplace=True)"
   ]
  },
  {
   "cell_type": "code",
   "execution_count": null,
   "metadata": {},
   "outputs": [],
   "source": [
    "train['SAME_PREF'] = train['PREF_NAME_COUPON'] == train['PREF_NAME_USER']\n",
    "test['SAME_PREF'] =  test['PREF_NAME_COUPON'] == test['PREF_NAME_USER']"
   ]
  },
  {
   "cell_type": "code",
   "execution_count": null,
   "metadata": {},
   "outputs": [],
   "source": [
    "def calc_euc(row):\n",
    "    return euclidean((row['LATITUDE_COUPON'],row['LONGITUDE_COUPON']),(row['LATITUDE_USER'],row['LONGITUDE_USER']))"
   ]
  },
  {
   "cell_type": "code",
   "execution_count": null,
   "metadata": {},
   "outputs": [],
   "source": [
    "print('TRAIN-LONGITUDE_DIST')\n",
    "train['LONGITUDE_DIST'] = train.apply(lambda x: x.LONGITUDE_COUPON - x.LONGITUDE_USER,axis=1)\n",
    "print('TRAIN-LATITUDE_DIST')\n",
    "train['LATITUDE_DIST'] = train.apply(lambda x: x.LATITUDE_COUPON - x.LATITUDE_USER,axis=1)\n",
    "print('TRAIN-EUCLIDEAN_DIST')\n",
    "train['EUCLIDEAN_DIST'] = train.apply(calc_euc,axis=1)\n",
    "\n",
    "test['LONGITUDE_DIST'] = test.apply(lambda x: x.LONGITUDE_COUPON - x.LONGITUDE_USER,axis=1)\n",
    "print('TEST-LONGITUDE_DIST')\n",
    "test['LATITUDE_DIST'] = test.apply(lambda x: x.LATITUDE_COUPON - x.LATITUDE_USER,axis=1)\n",
    "print('TEST-LATITUDE_DIST')\n",
    "test['EUCLIDEAN_DIST'] = test.apply(calc_euc,axis=1)\n",
    "print('TEST-EUCLIDEAN_DIST')"
   ]
  },
  {
   "cell_type": "code",
   "execution_count": null,
   "metadata": {},
   "outputs": [],
   "source": [
    "x_train = train.drop(['USER_ID_hash', 'COUPON_ID_hash'],axis=1)\n",
    "\n",
    "x_test = test.drop(['USER_ID_hash', 'COUPON_ID_hash'],axis=1)"
   ]
  },
  {
   "cell_type": "code",
   "execution_count": null,
   "metadata": {},
   "outputs": [],
   "source": [
    "categoricals = x_train.dtypes[x_train.dtypes == 'object'].index.tolist()"
   ]
  },
  {
   "cell_type": "code",
   "execution_count": null,
   "metadata": {},
   "outputs": [],
   "source": [
    "x_train_d = pd.get_dummies(x_train, columns=categoricals)\n",
    "x_test_d = pd.get_dummies(x_test, columns=categoricals)\n",
    "\n",
    "x_train_d, x_test_d = x_train_d.align(x_test_d, join='left', axis=1)\n",
    "\n",
    "x_train_d.fillna(0,inplace=True)\n",
    "x_test_d.fillna(0,inplace=True)"
   ]
  },
  {
   "cell_type": "code",
   "execution_count": null,
   "metadata": {},
   "outputs": [],
   "source": [
    "x_train_d.set_index('DISPFROM', inplace=True)"
   ]
  },
  {
   "cell_type": "code",
   "execution_count": null,
   "metadata": {},
   "outputs": [],
   "source": [
    "x_test_d.drop(['DISPFROM', 'TARGET'], axis=1, inplace=True)"
   ]
  },
  {
   "cell_type": "markdown",
   "metadata": {},
   "source": [
    "# Split Data by Week"
   ]
  },
  {
   "cell_type": "code",
   "execution_count": 5,
   "metadata": {},
   "outputs": [
    {
     "name": "stdout",
     "output_type": "stream",
     "text": [
      "2012-06-17 00:00:00\n"
     ]
    }
   ],
   "source": [
    "train_range = []\n",
    "\n",
    "start = pd.to_datetime('01/08/2012')\n",
    "end = start\n",
    "for i in range(23):\n",
    "    end = end + datetime.timedelta(days=7)"
   ]
  },
  {
   "cell_type": "code",
   "execution_count": null,
   "metadata": {},
   "outputs": [],
   "source": [
    "xgb_train = x_train_d[(x_train_d.index >= start) & (x_train_d.index < end)]\n",
    "xgb_eval = x_train_d[(x_train_d.index >= end)]"
   ]
  },
  {
   "cell_type": "markdown",
   "metadata": {},
   "source": [
    "# Convert to DMatrix"
   ]
  },
  {
   "cell_type": "code",
   "execution_count": null,
   "metadata": {},
   "outputs": [],
   "source": [
    "xgb_train = xgb.DMatrix(xgb_train.drop('TARGET', axis=1), label=xgb_train.TARGET.values.reshape(-1))"
   ]
  },
  {
   "cell_type": "code",
   "execution_count": null,
   "metadata": {},
   "outputs": [],
   "source": [
    "xgb_eval = xgb.DMatrix(xgb_eval.drop('TARGET', axis=1), label=xgb_eval.TARGET.values.reshape(-1))"
   ]
  },
  {
   "cell_type": "markdown",
   "metadata": {},
   "source": [
    "# Train"
   ]
  },
  {
   "cell_type": "code",
   "execution_count": null,
   "metadata": {
    "scrolled": true
   },
   "outputs": [],
   "source": [
    "xgb_params = {'booster':'gbtree',\n",
    "              'objective': 'binary:logistic',\n",
    "              'eta': 0.001,\n",
    "              'max_depth': 16,\n",
    "              'tree_method':'exact',\n",
    "              'eval_metric': 'logloss'\n",
    "             }\n",
    "\n",
    "num_round = 5000\n",
    "\n",
    "watchlist = [(xgb_train, 'train'), (xgb_eval, 'valid')]\n",
    "xgb_model = xgb.train(xgb_params, xgb_train, num_round, watchlist, early_stopping_rounds=200, verbose_eval=100)"
   ]
  },
  {
   "cell_type": "code",
   "execution_count": null,
   "metadata": {},
   "outputs": [],
   "source": [
    "xgb_model.save_model('CPP_REPO_xgb_model_23_1.model')"
   ]
  },
  {
   "cell_type": "markdown",
   "metadata": {},
   "source": [
    "# Predict"
   ]
  },
  {
   "cell_type": "code",
   "execution_count": null,
   "metadata": {},
   "outputs": [],
   "source": [
    "xgb_testA = xgb.DMatrix(x_test_d.iloc[:len(x_test_d)//3])\n",
    "xgb_testB = xgb.DMatrix(x_test_d.iloc[len(x_test_d)//3:len(x_test_d)//3*2])\n",
    "xgb_testC = xgb.DMatrix(x_test_d.iloc[len(x_test_d)//3*2:])"
   ]
  },
  {
   "cell_type": "code",
   "execution_count": null,
   "metadata": {},
   "outputs": [],
   "source": [
    "y_predA = xgb_model.predict(xgb_testA)\n",
    "y_predB = xgb_model.predict(xgb_testB)\n",
    "y_predC = xgb_model.predict(xgb_testC)"
   ]
  },
  {
   "cell_type": "code",
   "execution_count": null,
   "metadata": {},
   "outputs": [],
   "source": [
    "y_pred = y_predA.tolist() + y_predB.tolist() + y_predC.tolist()"
   ]
  },
  {
   "cell_type": "markdown",
   "metadata": {},
   "source": [
    "# Convert to Submission Format"
   ]
  },
  {
   "cell_type": "code",
   "execution_count": null,
   "metadata": {},
   "outputs": [],
   "source": [
    "sub = test[['USER_ID_hash','COUPON_ID_hash']]\n",
    "sub['TARGET'] = y_pred"
   ]
  },
  {
   "cell_type": "code",
   "execution_count": null,
   "metadata": {},
   "outputs": [],
   "source": [
    "grouped = sub.groupby('USER_ID_hash')"
   ]
  },
  {
   "cell_type": "code",
   "execution_count": null,
   "metadata": {},
   "outputs": [],
   "source": [
    "def get_top10(row):\n",
    "    pred = grouped.get_group(row.USER_ID_hash).sort_values(by=['TARGET'],ascending=False)\n",
    "    pred = ' '.join(map(str, pred.head(10).COUPON_ID_hash.values))\n",
    "    return pred"
   ]
  },
  {
   "cell_type": "code",
   "execution_count": null,
   "metadata": {},
   "outputs": [],
   "source": [
    "submission['PURCHASED_COUPONS'] = submission.apply(get_top10, axis=1)"
   ]
  },
  {
   "cell_type": "code",
   "execution_count": null,
   "metadata": {},
   "outputs": [],
   "source": [
    "submission.to_csv('sub_CPP_REPRO_XGB_ONLINE.csv', index=False)"
   ]
  },
  {
   "cell_type": "code",
   "execution_count": null,
   "metadata": {},
   "outputs": [],
   "source": [
    "submission"
   ]
  }
 ],
 "metadata": {
  "kernelspec": {
   "display_name": "Python 3",
   "language": "python",
   "name": "python3"
  },
  "language_info": {
   "codemirror_mode": {
    "name": "ipython",
    "version": 3
   },
   "file_extension": ".py",
   "mimetype": "text/x-python",
   "name": "python",
   "nbconvert_exporter": "python",
   "pygments_lexer": "ipython3",
   "version": "3.7.6"
  }
 },
 "nbformat": 4,
 "nbformat_minor": 4
}
