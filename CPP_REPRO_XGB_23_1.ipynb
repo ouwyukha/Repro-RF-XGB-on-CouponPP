{
 "cells": [
  {
   "cell_type": "code",
   "execution_count": 1,
   "metadata": {},
   "outputs": [],
   "source": [
    "import pandas as pd\n",
    "import os\n",
    "import numpy as np\n",
    "import xgboost as xgb\n",
    "import joblib\n",
    "import datetime\n",
    "from time import time\n",
    "from time import sleep\n",
    "\n",
    "pd.set_option('display.max_columns', None)"
   ]
  },
  {
   "cell_type": "markdown",
   "metadata": {},
   "source": [
    "# Load Data"
   ]
  },
  {
   "cell_type": "code",
   "execution_count": 2,
   "metadata": {},
   "outputs": [],
   "source": [
    "dsdir = 'dataset/coupon-purchase-prediction'"
   ]
  },
  {
   "cell_type": "code",
   "execution_count": 3,
   "metadata": {
    "scrolled": false
   },
   "outputs": [],
   "source": [
    "train = joblib.load('CPP_REPRO_cl_train.pkl').sample(frac=1, random_state=0).reset_index(drop=True)\n",
    "test =  joblib.load('CPP_REPRO_cl_test.pkl')\n",
    "submission = pd.read_csv(os.path.join(dsdir,'sample_submission.csv'))"
   ]
  },
  {
   "cell_type": "markdown",
   "metadata": {},
   "source": [
    "# Preprocess Some Columns"
   ]
  },
  {
   "cell_type": "code",
   "execution_count": 4,
   "metadata": {},
   "outputs": [],
   "source": [
    "# harness DISPFROM to split 23:1 weeks for early stopping validation\n",
    "train.DISPFROM = pd.to_datetime(train.DISPFROM)\n",
    "\n",
    "train.drop(['DISPEND', 'VALIDFROM', 'VALIDEND', 'REG_DATE', 'WITHDRAW_DATE'], axis=1, inplace=True)\n",
    "test.drop(['DISPFROM', 'DISPEND', 'VALIDFROM', 'VALIDEND', 'REG_DATE', 'WITHDRAW_DATE'], axis=1, inplace=True)"
   ]
  },
  {
   "cell_type": "code",
   "execution_count": 5,
   "metadata": {},
   "outputs": [],
   "source": [
    "train.drop(['USABLE_DATE_MON', 'USABLE_DATE_TUE', 'USABLE_DATE_WED', 'USABLE_DATE_THU', 'USABLE_DATE_FRI', 'USABLE_DATE_SAT', 'USABLE_DATE_SUN', 'USABLE_DATE_HOLIDAY', 'USABLE_DATE_BEFORE_HOLIDAY'], axis=1, inplace=True)\n",
    "test.drop(['USABLE_DATE_MON', 'USABLE_DATE_TUE', 'USABLE_DATE_WED', 'USABLE_DATE_THU', 'USABLE_DATE_FRI', 'USABLE_DATE_SAT', 'USABLE_DATE_SUN', 'USABLE_DATE_HOLIDAY', 'USABLE_DATE_BEFORE_HOLIDAY'], axis=1, inplace=True)"
   ]
  },
  {
   "cell_type": "code",
   "execution_count": 6,
   "metadata": {},
   "outputs": [],
   "source": [
    "x_train = train.drop(['USER_ID_hash', 'COUPON_ID_hash'],axis=1)\n",
    "\n",
    "x_test = test.drop(['USER_ID_hash', 'COUPON_ID_hash'],axis=1)"
   ]
  },
  {
   "cell_type": "code",
   "execution_count": 7,
   "metadata": {},
   "outputs": [],
   "source": [
    "categoricals = x_train.dtypes[x_train.dtypes == 'category'].index.tolist()"
   ]
  },
  {
   "cell_type": "code",
   "execution_count": 8,
   "metadata": {},
   "outputs": [],
   "source": [
    "x_train_d = pd.get_dummies(x_train, columns=categoricals)\n",
    "x_test_d = pd.get_dummies(x_test, columns=categoricals)\n",
    "\n",
    "x_train_d, x_test_d = x_train_d.align(x_test_d, join='left', axis=1)\n",
    "\n",
    "x_train_d.fillna(0,inplace=True)\n",
    "x_test_d.fillna(0,inplace=True)"
   ]
  },
  {
   "cell_type": "code",
   "execution_count": 9,
   "metadata": {},
   "outputs": [],
   "source": [
    "x_train_d.set_index('DISPFROM', inplace=True)"
   ]
  },
  {
   "cell_type": "code",
   "execution_count": 10,
   "metadata": {},
   "outputs": [],
   "source": [
    "x_test_d.drop(['DISPFROM', 'TARGET'], axis=1, inplace=True)"
   ]
  },
  {
   "cell_type": "markdown",
   "metadata": {},
   "source": [
    "# Split Data by Week"
   ]
  },
  {
   "cell_type": "code",
   "execution_count": 11,
   "metadata": {},
   "outputs": [],
   "source": [
    "train_range = []\n",
    "\n",
    "start = pd.to_datetime('01/08/2012')\n",
    "end = start\n",
    "for i in range(23):\n",
    "    end = end + datetime.timedelta(days=7)"
   ]
  },
  {
   "cell_type": "code",
   "execution_count": 12,
   "metadata": {},
   "outputs": [],
   "source": [
    "xgb_train = x_train_d[(x_train_d.index >= start) & (x_train_d.index < end)]\n",
    "xgb_eval = x_train_d[(x_train_d.index >= end)]"
   ]
  },
  {
   "cell_type": "markdown",
   "metadata": {},
   "source": [
    "# Convert to DMatrix"
   ]
  },
  {
   "cell_type": "code",
   "execution_count": 13,
   "metadata": {},
   "outputs": [],
   "source": [
    "xgb_train = xgb.DMatrix(xgb_train.drop('TARGET', axis=1), label=xgb_train.TARGET.values.reshape(-1))"
   ]
  },
  {
   "cell_type": "code",
   "execution_count": 14,
   "metadata": {},
   "outputs": [],
   "source": [
    "xgb_eval = xgb.DMatrix(xgb_eval.drop('TARGET', axis=1), label=xgb_eval.TARGET.values.reshape(-1))"
   ]
  },
  {
   "cell_type": "markdown",
   "metadata": {},
   "source": [
    "# Train"
   ]
  },
  {
   "cell_type": "code",
   "execution_count": 15,
   "metadata": {
    "scrolled": true
   },
   "outputs": [
    {
     "name": "stdout",
     "output_type": "stream",
     "text": [
      "[0]\ttrain-logloss:0.69216\tvalid-logloss:0.69248\n",
      "Multiple eval metrics have been passed: 'valid-logloss' will be used for early stopping.\n",
      "\n",
      "Will train until valid-logloss hasn't improved in 200 rounds.\n",
      "[100]\ttrain-logloss:0.62612\tvalid-logloss:0.63062\n",
      "[200]\ttrain-logloss:0.57092\tvalid-logloss:0.57950\n",
      "[300]\ttrain-logloss:0.52448\tvalid-logloss:0.53694\n",
      "[400]\ttrain-logloss:0.48497\tvalid-logloss:0.50121\n",
      "[500]\ttrain-logloss:0.45106\tvalid-logloss:0.47021\n",
      "[600]\ttrain-logloss:0.42187\tvalid-logloss:0.44337\n",
      "[700]\ttrain-logloss:0.39646\tvalid-logloss:0.42028\n",
      "[800]\ttrain-logloss:0.37414\tvalid-logloss:0.40011\n",
      "[900]\ttrain-logloss:0.35397\tvalid-logloss:0.38326\n",
      "[1000]\ttrain-logloss:0.33626\tvalid-logloss:0.36922\n",
      "[1100]\ttrain-logloss:0.32057\tvalid-logloss:0.35641\n",
      "[1200]\ttrain-logloss:0.30625\tvalid-logloss:0.34591\n",
      "[1300]\ttrain-logloss:0.29364\tvalid-logloss:0.33737\n",
      "[1400]\ttrain-logloss:0.28283\tvalid-logloss:0.32903\n",
      "[1500]\ttrain-logloss:0.27340\tvalid-logloss:0.32139\n",
      "[1600]\ttrain-logloss:0.26494\tvalid-logloss:0.31451\n",
      "[1700]\ttrain-logloss:0.25741\tvalid-logloss:0.30865\n",
      "[1800]\ttrain-logloss:0.25055\tvalid-logloss:0.30407\n",
      "[1900]\ttrain-logloss:0.24418\tvalid-logloss:0.30031\n",
      "[2000]\ttrain-logloss:0.23824\tvalid-logloss:0.29660\n",
      "[2100]\ttrain-logloss:0.23299\tvalid-logloss:0.29310\n",
      "[2200]\ttrain-logloss:0.22826\tvalid-logloss:0.28974\n",
      "[2300]\ttrain-logloss:0.22395\tvalid-logloss:0.28711\n",
      "[2400]\ttrain-logloss:0.21994\tvalid-logloss:0.28521\n",
      "[2500]\ttrain-logloss:0.21647\tvalid-logloss:0.28358\n",
      "[2600]\ttrain-logloss:0.21330\tvalid-logloss:0.28199\n",
      "[2700]\ttrain-logloss:0.21036\tvalid-logloss:0.28030\n",
      "[2800]\ttrain-logloss:0.20743\tvalid-logloss:0.27891\n",
      "[2900]\ttrain-logloss:0.20476\tvalid-logloss:0.27762\n",
      "[3000]\ttrain-logloss:0.20235\tvalid-logloss:0.27703\n",
      "[3100]\ttrain-logloss:0.20022\tvalid-logloss:0.27720\n",
      "[3200]\ttrain-logloss:0.19793\tvalid-logloss:0.27650\n",
      "[3300]\ttrain-logloss:0.19598\tvalid-logloss:0.27544\n",
      "[3400]\ttrain-logloss:0.19387\tvalid-logloss:0.27435\n",
      "[3500]\ttrain-logloss:0.19198\tvalid-logloss:0.27310\n",
      "[3600]\ttrain-logloss:0.19038\tvalid-logloss:0.27220\n",
      "[3700]\ttrain-logloss:0.18894\tvalid-logloss:0.27144\n",
      "[3800]\ttrain-logloss:0.18758\tvalid-logloss:0.27052\n",
      "[3900]\ttrain-logloss:0.18607\tvalid-logloss:0.26996\n",
      "[4000]\ttrain-logloss:0.18467\tvalid-logloss:0.26973\n",
      "[4100]\ttrain-logloss:0.18338\tvalid-logloss:0.26973\n",
      "[4200]\ttrain-logloss:0.18224\tvalid-logloss:0.26983\n",
      "Stopping. Best iteration:\n",
      "[4031]\ttrain-logloss:0.18427\tvalid-logloss:0.26968\n",
      "\n"
     ]
    }
   ],
   "source": [
    "xgb_params = {'booster':'gbtree',\n",
    "              'objective': 'binary:logistic',\n",
    "              'eta': 0.001,\n",
    "              'max_depth': 12,\n",
    "              'eval_metric': 'logloss',\n",
    "              'seed': 0\n",
    "             }\n",
    "\n",
    "num_round = 5000\n",
    "\n",
    "watchlist = [(xgb_train, 'train'), (xgb_eval, 'valid')]\n",
    "xgb_model = xgb.train(xgb_params, xgb_train, num_round, watchlist, early_stopping_rounds=200, verbose_eval=100)"
   ]
  },
  {
   "cell_type": "code",
   "execution_count": 16,
   "metadata": {},
   "outputs": [],
   "source": [
    "xgb_model.save_model('CPP_REPO_xgb_model_cut_23_1.model')"
   ]
  },
  {
   "cell_type": "markdown",
   "metadata": {},
   "source": [
    "# Predict"
   ]
  },
  {
   "cell_type": "code",
   "execution_count": 17,
   "metadata": {},
   "outputs": [],
   "source": [
    "#Split test data to prevent memory limit\n",
    "\n",
    "xgb_testA = xgb.DMatrix(x_test_d.iloc[:len(x_test_d)//3])\n",
    "xgb_testB = xgb.DMatrix(x_test_d.iloc[len(x_test_d)//3:len(x_test_d)//3*2])\n",
    "xgb_testC = xgb.DMatrix(x_test_d.iloc[len(x_test_d)//3*2:])"
   ]
  },
  {
   "cell_type": "code",
   "execution_count": 18,
   "metadata": {},
   "outputs": [],
   "source": [
    "y_predA = xgb_model.predict(xgb_testA)\n",
    "y_predB = xgb_model.predict(xgb_testB)\n",
    "y_predC = xgb_model.predict(xgb_testC)"
   ]
  },
  {
   "cell_type": "code",
   "execution_count": 19,
   "metadata": {},
   "outputs": [],
   "source": [
    "y_pred = y_predA.tolist() + y_predB.tolist() + y_predC.tolist()"
   ]
  },
  {
   "cell_type": "markdown",
   "metadata": {},
   "source": [
    "# Convert to Submission Format"
   ]
  },
  {
   "cell_type": "code",
   "execution_count": 20,
   "metadata": {},
   "outputs": [
    {
     "name": "stderr",
     "output_type": "stream",
     "text": [
      "C:\\Users\\Yukha\\.conda\\envs\\tensor\\lib\\site-packages\\ipykernel_launcher.py:2: SettingWithCopyWarning: \n",
      "A value is trying to be set on a copy of a slice from a DataFrame.\n",
      "Try using .loc[row_indexer,col_indexer] = value instead\n",
      "\n",
      "See the caveats in the documentation: https://pandas.pydata.org/pandas-docs/stable/user_guide/indexing.html#returning-a-view-versus-a-copy\n",
      "  \n"
     ]
    }
   ],
   "source": [
    "sub = test[['USER_ID_hash','COUPON_ID_hash']]\n",
    "sub['TARGET'] = y_pred"
   ]
  },
  {
   "cell_type": "code",
   "execution_count": 21,
   "metadata": {},
   "outputs": [],
   "source": [
    "grouped = sub.groupby('USER_ID_hash')"
   ]
  },
  {
   "cell_type": "code",
   "execution_count": 22,
   "metadata": {},
   "outputs": [],
   "source": [
    "def get_top10(row):\n",
    "    pred = grouped.get_group(row.USER_ID_hash).sort_values(by=['TARGET'],ascending=False)\n",
    "    pred = ' '.join(map(str, pred.head(10).COUPON_ID_hash.values))\n",
    "    return pred"
   ]
  },
  {
   "cell_type": "code",
   "execution_count": 23,
   "metadata": {},
   "outputs": [],
   "source": [
    "submission['PURCHASED_COUPONS'] = submission.apply(get_top10, axis=1)"
   ]
  },
  {
   "cell_type": "code",
   "execution_count": 29,
   "metadata": {},
   "outputs": [],
   "source": [
    "sub_name = 'sub_CPP_REPRO_XGB_'+str(int(time()))+'.csv'"
   ]
  },
  {
   "cell_type": "code",
   "execution_count": 30,
   "metadata": {},
   "outputs": [],
   "source": [
    "submission.to_csv(sub_name, index=False)"
   ]
  },
  {
   "cell_type": "code",
   "execution_count": 31,
   "metadata": {},
   "outputs": [
    {
     "data": {
      "text/html": [
       "<div>\n",
       "<style scoped>\n",
       "    .dataframe tbody tr th:only-of-type {\n",
       "        vertical-align: middle;\n",
       "    }\n",
       "\n",
       "    .dataframe tbody tr th {\n",
       "        vertical-align: top;\n",
       "    }\n",
       "\n",
       "    .dataframe thead th {\n",
       "        text-align: right;\n",
       "    }\n",
       "</style>\n",
       "<table border=\"1\" class=\"dataframe\">\n",
       "  <thead>\n",
       "    <tr style=\"text-align: right;\">\n",
       "      <th></th>\n",
       "      <th>USER_ID_hash</th>\n",
       "      <th>PURCHASED_COUPONS</th>\n",
       "    </tr>\n",
       "  </thead>\n",
       "  <tbody>\n",
       "    <tr>\n",
       "      <th>0</th>\n",
       "      <td>0000b53e182165208887ba65c079fc21</td>\n",
       "      <td>81c1c7241aadbb323b38689a64fbc83a e4db7645ae556...</td>\n",
       "    </tr>\n",
       "    <tr>\n",
       "      <th>1</th>\n",
       "      <td>00035b86e6884589ec8d28fbf2fe7757</td>\n",
       "      <td>fc5f052a1bd97696fbcab35d8d974b73 262572324a598...</td>\n",
       "    </tr>\n",
       "    <tr>\n",
       "      <th>2</th>\n",
       "      <td>0005b1068d5f2b8f2a7c978fcfe1ca06</td>\n",
       "      <td>1d6cb6629979a1d0e9038c9309c6c41b 81c1c7241aadb...</td>\n",
       "    </tr>\n",
       "    <tr>\n",
       "      <th>3</th>\n",
       "      <td>000cc06982785a19e2a2fdb40b1c9d59</td>\n",
       "      <td>0e917a0e872246a36e7a9a28df505562 79de77aa8c36f...</td>\n",
       "    </tr>\n",
       "    <tr>\n",
       "      <th>4</th>\n",
       "      <td>0013518e41c416cd6a181d277dd8ca0b</td>\n",
       "      <td>d79a889ee9d0712607a2672e96ba3d69 98dc8da9b3c7c...</td>\n",
       "    </tr>\n",
       "    <tr>\n",
       "      <th>...</th>\n",
       "      <td>...</td>\n",
       "      <td>...</td>\n",
       "    </tr>\n",
       "    <tr>\n",
       "      <th>22868</th>\n",
       "      <td>fff1a623187cefd7a594e338709b0f40</td>\n",
       "      <td>e4db7645ae556f252e60636df7c8eac8 9fe88dabce140...</td>\n",
       "    </tr>\n",
       "    <tr>\n",
       "      <th>22869</th>\n",
       "      <td>fff4a076cfda6ff9dbe85e1cb678791b</td>\n",
       "      <td>79de77aa8c36fdf17cb3366e2084e353 0e917a0e87224...</td>\n",
       "    </tr>\n",
       "    <tr>\n",
       "      <th>22870</th>\n",
       "      <td>fff970d2014c3e10a77e38d540239017</td>\n",
       "      <td>3c5bdd8fea0674f40e831568a7ea6a92 f0685cf6de3c1...</td>\n",
       "    </tr>\n",
       "    <tr>\n",
       "      <th>22871</th>\n",
       "      <td>fffafc024e264d5d539813444cf61199</td>\n",
       "      <td>98dc8da9b3c7ca94aeaa398aef52784f e4db7645ae556...</td>\n",
       "    </tr>\n",
       "    <tr>\n",
       "      <th>22872</th>\n",
       "      <td>ffff56dbf3c782c3532f88c6c79817ba</td>\n",
       "      <td>79de77aa8c36fdf17cb3366e2084e353 0e917a0e87224...</td>\n",
       "    </tr>\n",
       "  </tbody>\n",
       "</table>\n",
       "<p>22873 rows × 2 columns</p>\n",
       "</div>"
      ],
      "text/plain": [
       "                           USER_ID_hash  \\\n",
       "0      0000b53e182165208887ba65c079fc21   \n",
       "1      00035b86e6884589ec8d28fbf2fe7757   \n",
       "2      0005b1068d5f2b8f2a7c978fcfe1ca06   \n",
       "3      000cc06982785a19e2a2fdb40b1c9d59   \n",
       "4      0013518e41c416cd6a181d277dd8ca0b   \n",
       "...                                 ...   \n",
       "22868  fff1a623187cefd7a594e338709b0f40   \n",
       "22869  fff4a076cfda6ff9dbe85e1cb678791b   \n",
       "22870  fff970d2014c3e10a77e38d540239017   \n",
       "22871  fffafc024e264d5d539813444cf61199   \n",
       "22872  ffff56dbf3c782c3532f88c6c79817ba   \n",
       "\n",
       "                                       PURCHASED_COUPONS  \n",
       "0      81c1c7241aadbb323b38689a64fbc83a e4db7645ae556...  \n",
       "1      fc5f052a1bd97696fbcab35d8d974b73 262572324a598...  \n",
       "2      1d6cb6629979a1d0e9038c9309c6c41b 81c1c7241aadb...  \n",
       "3      0e917a0e872246a36e7a9a28df505562 79de77aa8c36f...  \n",
       "4      d79a889ee9d0712607a2672e96ba3d69 98dc8da9b3c7c...  \n",
       "...                                                  ...  \n",
       "22868  e4db7645ae556f252e60636df7c8eac8 9fe88dabce140...  \n",
       "22869  79de77aa8c36fdf17cb3366e2084e353 0e917a0e87224...  \n",
       "22870  3c5bdd8fea0674f40e831568a7ea6a92 f0685cf6de3c1...  \n",
       "22871  98dc8da9b3c7ca94aeaa398aef52784f e4db7645ae556...  \n",
       "22872  79de77aa8c36fdf17cb3366e2084e353 0e917a0e87224...  \n",
       "\n",
       "[22873 rows x 2 columns]"
      ]
     },
     "execution_count": 31,
     "metadata": {},
     "output_type": "execute_result"
    }
   ],
   "source": [
    "submission"
   ]
  },
  {
   "cell_type": "code",
   "execution_count": 32,
   "metadata": {},
   "outputs": [
    {
     "name": "stdout",
     "output_type": "stream",
     "text": [
      "Successfully submitted to Coupon Purchase Prediction\n"
     ]
    },
    {
     "name": "stderr",
     "output_type": "stream",
     "text": [
      "\n",
      "  0%|          | 0.00/7.94M [00:00<?, ?B/s]\n",
      "  1%|1         | 88.0k/7.94M [00:00<00:09, 883kB/s]\n",
      "  2%|2         | 176k/7.94M [00:00<00:09, 857kB/s] \n",
      "  3%|2         | 232k/7.94M [00:00<00:25, 321kB/s]\n",
      "  3%|3         | 272k/7.94M [00:01<00:44, 180kB/s]\n",
      "  4%|3         | 304k/7.94M [00:01<01:01, 131kB/s]\n",
      "  4%|4         | 344k/7.94M [00:01<01:08, 117kB/s]\n",
      "  5%|4         | 384k/7.94M [00:02<01:13, 108kB/s]\n",
      "  5%|5         | 424k/7.94M [00:02<01:17, 102kB/s]\n",
      "  6%|5         | 456k/7.94M [00:02<01:01, 128kB/s]\n",
      "  6%|5         | 480k/7.94M [00:03<01:23, 94.2kB/s]\n",
      "  6%|6         | 512k/7.94M [00:03<01:05, 120kB/s] \n",
      "  7%|6         | 536k/7.94M [00:03<01:26, 89.5kB/s]\n",
      "  7%|6         | 560k/7.94M [00:04<01:36, 80.1kB/s]\n",
      "  7%|7         | 592k/7.94M [00:04<01:15, 102kB/s] \n",
      "  8%|7         | 616k/7.94M [00:04<01:32, 83.1kB/s]\n",
      "  8%|7         | 648k/7.94M [00:04<01:11, 107kB/s] \n",
      "  8%|8         | 672k/7.94M [00:05<01:30, 84.1kB/s]\n",
      "  9%|8         | 704k/7.94M [00:05<01:34, 80.7kB/s]\n",
      "  9%|9         | 744k/7.94M [00:06<01:32, 82.1kB/s]\n",
      " 10%|9         | 776k/7.94M [00:06<01:11, 106kB/s] \n",
      " 10%|9         | 800k/7.94M [00:06<01:28, 84.9kB/s]\n",
      " 10%|#         | 840k/7.94M [00:07<01:27, 85.2kB/s]\n",
      " 11%|#         | 872k/7.94M [00:07<01:08, 109kB/s] \n",
      " 11%|#1        | 896k/7.94M [00:07<01:25, 86.4kB/s]\n",
      " 11%|#1        | 928k/7.94M [00:08<01:29, 82.4kB/s]\n",
      " 12%|#1        | 968k/7.94M [00:08<01:07, 108kB/s] \n",
      " 12%|#2        | 992k/7.94M [00:08<01:26, 84.6kB/s]\n",
      " 12%|#2        | 0.99M/7.94M [00:09<01:37, 74.7kB/s]\n",
      " 13%|#2        | 1.02M/7.94M [00:09<01:14, 96.9kB/s]\n",
      " 13%|#3        | 1.05M/7.94M [00:09<01:29, 80.8kB/s]\n",
      " 14%|#3        | 1.08M/7.94M [00:09<01:09, 103kB/s] \n",
      " 14%|#3        | 1.10M/7.94M [00:10<01:25, 83.7kB/s]\n",
      " 14%|#4        | 1.13M/7.94M [00:10<01:30, 79.2kB/s]\n",
      " 15%|#4        | 1.17M/7.94M [00:10<01:07, 104kB/s] \n",
      " 15%|#5        | 1.20M/7.94M [00:11<01:23, 84.5kB/s]\n",
      " 15%|#5        | 1.23M/7.94M [00:11<01:28, 79.9kB/s]\n",
      " 16%|#5        | 1.26M/7.94M [00:12<01:30, 77.1kB/s]\n",
      " 16%|#6        | 1.29M/7.94M [00:12<01:09, 99.6kB/s]\n",
      " 17%|#6        | 1.31M/7.94M [00:12<01:27, 79.3kB/s]\n",
      " 17%|#6        | 1.34M/7.94M [00:13<01:33, 73.9kB/s]\n",
      " 17%|#7        | 1.36M/7.94M [00:13<01:14, 92.5kB/s]\n",
      " 17%|#7        | 1.38M/7.94M [00:13<01:42, 67.4kB/s]\n",
      " 18%|#7        | 1.40M/7.94M [00:14<01:45, 65.2kB/s]\n",
      " 18%|#7        | 1.42M/7.94M [00:14<01:21, 83.4kB/s]\n",
      " 18%|#8        | 1.44M/7.94M [00:14<01:47, 63.4kB/s]\n",
      " 18%|#8        | 1.47M/7.94M [00:14<01:22, 82.3kB/s]\n",
      " 19%|#8        | 1.48M/7.94M [00:15<01:44, 64.5kB/s]\n",
      " 19%|#9        | 1.52M/7.94M [00:15<01:41, 66.3kB/s]\n",
      " 19%|#9        | 1.55M/7.94M [00:15<01:17, 86.7kB/s]\n",
      " 20%|#9        | 1.57M/7.94M [00:16<01:58, 56.3kB/s]\n",
      " 20%|#9        | 1.59M/7.94M [00:17<02:52, 38.5kB/s]\n",
      " 20%|##        | 1.60M/7.94M [00:17<02:48, 39.5kB/s]\n",
      " 20%|##        | 1.62M/7.94M [00:18<02:52, 38.5kB/s]\n",
      " 20%|##        | 1.62M/7.94M [00:18<03:36, 30.6kB/s]\n",
      " 21%|##        | 1.63M/7.94M [00:18<03:54, 28.2kB/s]\n",
      " 21%|##        | 1.65M/7.94M [00:19<03:37, 30.3kB/s]\n",
      " 21%|##        | 1.66M/7.94M [00:19<04:00, 27.4kB/s]\n",
      " 21%|##1       | 1.67M/7.94M [00:20<04:17, 25.5kB/s]\n",
      " 21%|##1       | 1.69M/7.94M [00:20<03:12, 34.1kB/s]\n",
      " 21%|##1       | 1.70M/7.94M [00:20<03:07, 34.9kB/s]\n",
      " 22%|##1       | 1.71M/7.94M [00:21<04:53, 22.3kB/s]\n",
      " 22%|##1       | 1.72M/7.94M [00:21<04:56, 22.0kB/s]\n",
      " 22%|##1       | 1.73M/7.94M [00:22<04:14, 25.6kB/s]\n",
      " 22%|##1       | 1.74M/7.94M [00:22<04:28, 24.2kB/s]\n",
      " 22%|##2       | 1.76M/7.94M [00:23<03:57, 27.3kB/s]\n",
      " 22%|##2       | 1.77M/7.94M [00:23<04:16, 25.3kB/s]\n",
      " 23%|##2       | 1.79M/7.94M [00:23<03:07, 34.3kB/s]\n",
      " 23%|##2       | 1.80M/7.94M [00:24<02:59, 35.9kB/s]\n",
      " 23%|##3       | 1.83M/7.94M [00:25<03:29, 30.6kB/s]\n",
      " 23%|##3       | 1.86M/7.94M [00:25<02:57, 35.9kB/s]\n",
      " 24%|##3       | 1.89M/7.94M [00:26<02:29, 42.5kB/s]\n",
      " 24%|##3       | 1.90M/7.94M [00:26<03:16, 32.3kB/s]\n",
      " 24%|##4       | 1.93M/7.94M [00:26<02:25, 43.2kB/s]\n",
      " 24%|##4       | 1.95M/7.94M [00:27<02:26, 43.0kB/s]\n",
      " 25%|##4       | 1.97M/7.94M [00:27<02:13, 46.8kB/s]\n",
      " 25%|##5       | 2.00M/7.94M [00:27<01:39, 62.8kB/s]\n",
      " 25%|##5       | 2.02M/7.94M [00:28<02:01, 50.9kB/s]\n",
      " 26%|##5       | 2.05M/7.94M [00:28<01:48, 56.9kB/s]\n",
      " 26%|##6       | 2.09M/7.94M [00:28<01:20, 76.7kB/s]\n",
      " 27%|##6       | 2.11M/7.94M [00:28<01:28, 69.0kB/s]\n",
      " 27%|##6       | 2.14M/7.94M [00:29<01:27, 69.6kB/s]\n",
      " 28%|##7       | 2.19M/7.94M [00:29<01:19, 75.9kB/s]\n",
      " 28%|##8       | 2.23M/7.94M [00:30<01:12, 82.9kB/s]\n",
      " 29%|##8       | 2.28M/7.94M [00:30<01:08, 86.6kB/s]\n",
      " 29%|##9       | 2.32M/7.94M [00:31<01:08, 86.1kB/s]\n",
      " 30%|##9       | 2.36M/7.94M [00:31<01:05, 89.1kB/s]\n",
      " 30%|###       | 2.40M/7.94M [00:32<01:04, 89.8kB/s]\n",
      " 31%|###       | 2.44M/7.94M [00:32<01:05, 88.4kB/s]\n",
      " 31%|###1      | 2.48M/7.94M [00:33<01:01, 93.7kB/s]\n",
      " 32%|###1      | 2.52M/7.94M [00:33<01:01, 91.8kB/s]\n",
      " 32%|###2      | 2.57M/7.94M [00:34<01:00, 93.6kB/s]\n",
      " 33%|###2      | 2.60M/7.94M [00:34<00:47, 119kB/s] \n",
      " 33%|###2      | 2.62M/7.94M [00:34<01:12, 77.5kB/s]\n",
      " 33%|###3      | 2.65M/7.94M [00:34<00:55, 100kB/s] \n",
      " 34%|###3      | 2.67M/7.94M [00:35<01:48, 50.9kB/s]\n",
      " 34%|###4      | 2.72M/7.94M [00:35<01:19, 69.0kB/s]\n",
      " 35%|###4      | 2.75M/7.94M [00:36<01:00, 90.4kB/s]\n",
      " 35%|###5      | 2.78M/7.94M [00:36<01:02, 86.2kB/s]\n",
      " 35%|###5      | 2.80M/7.94M [00:36<01:11, 75.7kB/s]\n",
      " 36%|###5      | 2.84M/7.94M [00:36<00:54, 97.9kB/s]\n",
      " 36%|###6      | 2.87M/7.94M [00:37<01:04, 82.9kB/s]\n",
      " 36%|###6      | 2.88M/7.94M [00:37<01:25, 62.0kB/s]\n",
      " 37%|###6      | 2.92M/7.94M [00:37<01:03, 82.4kB/s]\n",
      " 37%|###7      | 2.95M/7.94M [00:38<01:08, 76.2kB/s]\n",
      " 37%|###7      | 2.97M/7.94M [00:38<01:13, 70.9kB/s]\n",
      " 38%|###7      | 3.01M/7.94M [00:39<01:07, 76.4kB/s]\n",
      " 38%|###8      | 3.05M/7.94M [00:39<00:51, 100kB/s] \n",
      " 39%|###8      | 3.07M/7.94M [00:39<01:00, 83.9kB/s]\n",
      " 39%|###8      | 3.09M/7.94M [00:40<01:12, 69.7kB/s]\n",
      " 40%|###9      | 3.14M/7.94M [00:40<01:04, 78.6kB/s]\n",
      " 40%|####      | 3.18M/7.94M [00:41<01:00, 82.4kB/s]\n",
      " 41%|####      | 3.22M/7.94M [00:41<00:45, 108kB/s] \n",
      " 41%|####      | 3.24M/7.94M [00:41<01:01, 80.1kB/s]\n",
      " 41%|####1     | 3.27M/7.94M [00:42<00:59, 81.7kB/s]\n",
      " 42%|####1     | 3.31M/7.94M [00:42<00:46, 104kB/s] \n",
      " 42%|####2     | 3.34M/7.94M [00:42<00:56, 86.0kB/s]\n",
      " 42%|####2     | 3.36M/7.94M [00:42<01:03, 75.7kB/s]\n",
      " 43%|####2     | 3.40M/7.94M [00:43<00:48, 97.5kB/s]\n",
      " 43%|####3     | 3.42M/7.94M [00:43<00:56, 83.1kB/s]\n",
      " 43%|####3     | 3.45M/7.94M [00:43<01:03, 74.3kB/s]\n",
      " 44%|####3     | 3.48M/7.94M [00:44<01:04, 72.5kB/s]\n",
      " 44%|####4     | 3.52M/7.94M [00:44<00:48, 95.3kB/s]\n",
      " 45%|####4     | 3.54M/7.94M [00:44<00:55, 83.5kB/s]\n",
      " 45%|####4     | 3.56M/7.94M [00:45<01:01, 74.1kB/s]\n",
      " 45%|####5     | 3.60M/7.94M [00:45<00:58, 78.0kB/s]\n",
      " 46%|####5     | 3.64M/7.94M [00:46<00:55, 80.6kB/s]\n",
      " 46%|####6     | 3.66M/7.94M [00:46<01:02, 71.7kB/s]\n",
      " 46%|####6     | 3.69M/7.94M [00:47<01:06, 67.1kB/s]\n",
      " 47%|####6     | 3.72M/7.94M [00:47<01:16, 58.1kB/s]\n",
      " 47%|####7     | 3.74M/7.94M [00:47<00:58, 75.1kB/s]\n",
      " 47%|####7     | 3.77M/7.94M [00:48<01:04, 68.0kB/s]\n",
      " 48%|####7     | 3.80M/7.94M [00:48<00:59, 72.3kB/s]\n",
      " 48%|####8     | 3.84M/7.94M [00:49<00:54, 78.5kB/s]\n",
      " 49%|####8     | 3.88M/7.94M [00:49<00:41, 103kB/s] \n",
      " 49%|####9     | 3.91M/7.94M [00:49<00:51, 82.0kB/s]\n",
      " 49%|####9     | 3.93M/7.94M [00:49<00:41, 102kB/s] \n",
      " 50%|####9     | 3.95M/7.94M [00:50<00:48, 86.9kB/s]\n",
      " 50%|####9     | 3.97M/7.94M [00:50<01:02, 66.3kB/s]\n",
      " 50%|#####     | 4.00M/7.94M [00:50<00:47, 86.8kB/s]\n",
      " 51%|#####     | 4.02M/7.94M [00:51<00:57, 71.7kB/s]\n",
      " 51%|#####1    | 4.06M/7.94M [00:51<00:43, 93.2kB/s]\n",
      " 51%|#####1    | 4.09M/7.94M [00:51<00:50, 80.4kB/s]\n",
      " 52%|#####1    | 4.10M/7.94M [00:52<01:01, 65.2kB/s]\n",
      " 52%|#####2    | 4.14M/7.94M [00:52<00:57, 69.4kB/s]\n",
      " 53%|#####2    | 4.17M/7.94M [00:53<00:53, 73.5kB/s]\n",
      " 53%|#####3    | 4.21M/7.94M [00:53<00:40, 97.1kB/s]\n",
      " 53%|#####3    | 4.23M/7.94M [00:53<00:47, 82.2kB/s]\n",
      " 54%|#####3    | 4.26M/7.94M [00:54<00:54, 71.2kB/s]\n",
      " 54%|#####4    | 4.29M/7.94M [00:54<00:51, 73.7kB/s]\n",
      " 55%|#####4    | 4.33M/7.94M [00:54<00:48, 77.4kB/s]\n",
      " 55%|#####5    | 4.37M/7.94M [00:55<00:37, 98.9kB/s]\n",
      " 55%|#####5    | 4.38M/7.94M [00:55<00:52, 70.8kB/s]\n",
      " 55%|#####5    | 4.41M/7.94M [00:55<00:54, 67.6kB/s]\n",
      " 56%|#####5    | 4.45M/7.94M [00:56<00:51, 71.1kB/s]\n",
      " 56%|#####6    | 4.46M/7.94M [00:56<01:00, 60.6kB/s]\n",
      " 57%|#####6    | 4.50M/7.94M [00:57<00:53, 67.0kB/s]\n",
      " 57%|#####7    | 4.53M/7.94M [00:57<00:53, 67.1kB/s]\n",
      " 57%|#####7    | 4.56M/7.94M [00:58<00:51, 69.2kB/s]\n",
      " 58%|#####7    | 4.59M/7.94M [00:58<00:53, 66.3kB/s]\n",
      " 58%|#####8    | 4.63M/7.94M [00:58<00:46, 74.1kB/s]\n",
      " 59%|#####8    | 4.66M/7.94M [00:59<00:45, 75.4kB/s]\n",
      " 59%|#####9    | 4.71M/7.94M [00:59<00:42, 80.2kB/s]\n",
      " 60%|#####9    | 4.75M/7.94M [01:00<00:41, 81.4kB/s]\n",
      " 60%|######    | 4.79M/7.94M [01:00<00:39, 84.3kB/s]\n",
      " 61%|######    | 4.83M/7.94M [01:01<00:38, 85.6kB/s]\n",
      " 61%|######1   | 4.87M/7.94M [01:01<00:37, 86.5kB/s]\n",
      " 62%|######1   | 4.91M/7.94M [01:02<00:36, 88.0kB/s]\n",
      " 62%|######2   | 4.95M/7.94M [01:02<00:35, 89.4kB/s]\n",
      " 63%|######2   | 4.98M/7.94M [01:03<00:34, 89.1kB/s]\n",
      " 63%|######3   | 5.03M/7.94M [01:03<00:33, 92.0kB/s]\n",
      " 64%|######3   | 5.07M/7.94M [01:04<00:32, 92.2kB/s]\n",
      " 64%|######4   | 5.11M/7.94M [01:04<00:25, 114kB/s] \n",
      " 65%|######4   | 5.12M/7.94M [01:04<00:39, 75.6kB/s]\n",
      " 65%|######4   | 5.15M/7.94M [01:05<00:41, 70.8kB/s]\n",
      " 65%|######5   | 5.17M/7.94M [01:05<00:41, 70.6kB/s]\n",
      " 66%|######5   | 5.20M/7.94M [01:05<00:31, 90.2kB/s]\n",
      " 66%|######5   | 5.22M/7.94M [01:05<00:42, 67.5kB/s]\n",
      " 66%|######6   | 5.24M/7.94M [01:06<00:44, 63.9kB/s]\n",
      " 67%|######6   | 5.29M/7.94M [01:06<00:38, 71.8kB/s]\n",
      " 67%|######7   | 5.33M/7.94M [01:07<00:35, 77.7kB/s]\n",
      " 67%|######7   | 5.36M/7.94M [01:07<00:28, 95.9kB/s]\n",
      " 68%|######7   | 5.38M/7.94M [01:07<00:38, 69.3kB/s]\n",
      " 68%|######7   | 5.39M/7.94M [01:08<00:47, 56.3kB/s]\n",
      " 68%|######8   | 5.41M/7.94M [01:08<00:46, 56.7kB/s]\n",
      " 68%|######8   | 5.44M/7.94M [01:09<00:46, 56.7kB/s]\n",
      " 69%|######8   | 5.47M/7.94M [01:09<00:43, 59.9kB/s]\n",
      " 69%|######9   | 5.50M/7.94M [01:09<00:39, 65.5kB/s]\n",
      " 70%|######9   | 5.54M/7.94M [01:10<00:35, 70.7kB/s]\n",
      " 70%|#######   | 5.57M/7.94M [01:10<00:28, 88.1kB/s]\n",
      " 70%|#######   | 5.59M/7.94M [01:10<00:37, 66.7kB/s]\n",
      " 71%|#######   | 5.60M/7.94M [01:11<00:45, 54.2kB/s]\n",
      " 71%|#######   | 5.63M/7.94M [01:11<00:40, 59.5kB/s]\n",
      " 71%|#######1  | 5.66M/7.94M [01:12<00:36, 65.2kB/s]\n",
      " 72%|#######1  | 5.70M/7.94M [01:12<00:34, 67.3kB/s]\n",
      " 72%|#######2  | 5.73M/7.94M [01:13<00:32, 70.3kB/s]\n",
      " 73%|#######2  | 5.77M/7.94M [01:13<00:29, 76.4kB/s]\n",
      " 73%|#######2  | 5.79M/7.94M [01:13<00:34, 64.7kB/s]\n",
      " 73%|#######3  | 5.82M/7.94M [01:14<00:33, 67.2kB/s]\n",
      " 74%|#######3  | 5.85M/7.94M [01:14<00:30, 71.2kB/s]\n",
      " 74%|#######4  | 5.88M/7.94M [01:15<00:29, 73.7kB/s]\n",
      " 75%|#######4  | 5.92M/7.94M [01:15<00:28, 73.9kB/s]\n",
      " 75%|#######5  | 5.96M/7.94M [01:16<00:25, 80.3kB/s]\n",
      " 75%|#######5  | 5.99M/7.94M [01:16<00:20, 100kB/s] \n",
      " 76%|#######5  | 6.01M/7.94M [01:16<00:30, 67.2kB/s]\n",
      " 76%|#######5  | 6.03M/7.94M [01:17<00:29, 66.8kB/s]\n",
      " 76%|#######6  | 6.07M/7.94M [01:17<00:27, 70.7kB/s]\n",
      " 77%|#######6  | 6.11M/7.94M [01:18<00:25, 74.5kB/s]\n",
      " 77%|#######7  | 6.13M/7.94M [01:18<00:20, 94.1kB/s]\n",
      " 77%|#######7  | 6.15M/7.94M [01:18<00:27, 67.7kB/s]\n"
     ]
    },
    {
     "name": "stderr",
     "output_type": "stream",
     "text": [
      " 78%|#######7  | 6.17M/7.94M [01:18<00:27, 66.8kB/s]\n",
      " 78%|#######8  | 6.21M/7.94M [01:19<00:20, 88.9kB/s]\n",
      " 79%|#######8  | 6.23M/7.94M [01:19<00:23, 76.7kB/s]\n",
      " 79%|#######8  | 6.26M/7.94M [01:19<00:25, 70.1kB/s]\n",
      " 79%|#######9  | 6.30M/7.94M [01:20<00:23, 74.7kB/s]\n",
      " 80%|#######9  | 6.31M/7.94M [01:20<00:26, 64.4kB/s]\n",
      " 80%|########  | 6.36M/7.94M [01:20<00:19, 86.7kB/s]\n",
      " 80%|########  | 6.38M/7.94M [01:21<00:22, 74.1kB/s]\n",
      " 81%|########  | 6.41M/7.94M [01:21<00:16, 95.1kB/s]\n",
      " 81%|########1 | 6.44M/7.94M [01:21<00:19, 81.5kB/s]\n",
      " 81%|########1 | 6.46M/7.94M [01:22<00:21, 73.8kB/s]\n",
      " 82%|########1 | 6.51M/7.94M [01:22<00:18, 80.4kB/s]\n",
      " 82%|########2 | 6.55M/7.94M [01:23<00:17, 82.3kB/s]\n",
      " 83%|########2 | 6.59M/7.94M [01:23<00:13, 107kB/s] \n",
      " 83%|########3 | 6.61M/7.94M [01:23<00:16, 83.9kB/s]\n",
      " 84%|########3 | 6.64M/7.94M [01:24<00:17, 80.0kB/s]\n",
      " 84%|########4 | 6.68M/7.94M [01:24<00:12, 105kB/s] \n",
      " 84%|########4 | 6.70M/7.94M [01:24<00:15, 86.2kB/s]\n",
      " 85%|########4 | 6.73M/7.94M [01:25<00:16, 77.1kB/s]\n",
      " 85%|########5 | 6.77M/7.94M [01:25<00:15, 80.1kB/s]\n",
      " 86%|########5 | 6.80M/7.94M [01:25<00:11, 103kB/s] \n",
      " 86%|########5 | 6.83M/7.94M [01:26<00:13, 84.8kB/s]\n",
      " 86%|########6 | 6.85M/7.94M [01:26<00:15, 74.5kB/s]\n",
      " 87%|########6 | 6.90M/7.94M [01:26<00:11, 94.4kB/s]\n",
      " 87%|########7 | 6.91M/7.94M [01:27<00:15, 69.5kB/s]\n",
      " 87%|########7 | 6.95M/7.94M [01:27<00:14, 72.9kB/s]\n",
      " 88%|########7 | 6.98M/7.94M [01:27<00:13, 76.9kB/s]\n",
      " 89%|########8 | 7.03M/7.94M [01:28<00:11, 84.8kB/s]\n",
      " 89%|########9 | 7.07M/7.94M [01:28<00:10, 85.4kB/s]\n",
      " 89%|########9 | 7.10M/7.94M [01:29<00:10, 82.3kB/s]\n",
      " 90%|########9 | 7.14M/7.94M [01:29<00:09, 84.1kB/s]\n",
      " 90%|######### | 7.18M/7.94M [01:30<00:09, 85.7kB/s]\n",
      " 91%|#########1| 7.23M/7.94M [01:30<00:09, 77.8kB/s]\n",
      " 92%|#########1| 7.28M/7.94M [01:31<00:07, 87.0kB/s]\n",
      " 92%|#########2| 7.32M/7.94M [01:31<00:07, 90.6kB/s]\n",
      " 93%|#########2| 7.36M/7.94M [01:32<00:06, 90.8kB/s]\n",
      " 93%|#########3| 7.39M/7.94M [01:32<00:06, 86.3kB/s]\n",
      " 93%|#########3| 7.42M/7.94M [01:32<00:04, 110kB/s] \n",
      " 94%|#########3| 7.44M/7.94M [01:33<00:07, 67.3kB/s]\n",
      " 94%|#########4| 7.48M/7.94M [01:33<00:06, 75.5kB/s]\n",
      " 95%|#########4| 7.52M/7.94M [01:33<00:04, 98.5kB/s]\n",
      " 95%|#########5| 7.55M/7.94M [01:34<00:04, 83.2kB/s]\n",
      " 95%|#########5| 7.57M/7.94M [01:34<00:05, 73.5kB/s]\n",
      " 96%|#########5| 7.62M/7.94M [01:35<00:04, 79.6kB/s]\n",
      " 96%|#########6| 7.66M/7.94M [01:35<00:02, 104kB/s] \n",
      " 97%|#########6| 7.68M/7.94M [01:35<00:03, 85.9kB/s]\n",
      " 97%|#########7| 7.70M/7.94M [01:36<00:03, 79.2kB/s]\n",
      " 98%|#########7| 7.74M/7.94M [01:36<00:02, 80.9kB/s]\n",
      " 98%|#########8| 7.79M/7.94M [01:36<00:01, 105kB/s] \n",
      " 98%|#########8| 7.81M/7.94M [01:37<00:01, 85.8kB/s]\n",
      " 99%|#########8| 7.84M/7.94M [01:37<00:01, 75.1kB/s]\n",
      " 99%|#########9| 7.88M/7.94M [01:37<00:00, 98.1kB/s]\n",
      " 99%|#########9| 7.90M/7.94M [01:38<00:00, 79.6kB/s]\n",
      "100%|#########9| 7.93M/7.94M [01:38<00:00, 78.3kB/s]\n",
      "100%|##########| 7.94M/7.94M [01:42<00:00, 81.6kB/s]\n"
     ]
    }
   ],
   "source": [
    "!kaggle competitions submit -c coupon-purchase-prediction -f $sub_name -m $sub_name"
   ]
  },
  {
   "cell_type": "code",
   "execution_count": 34,
   "metadata": {},
   "outputs": [
    {
     "name": "stdout",
     "output_type": "stream",
     "text": [
      "Private : 0.00535 \t|\tPublic : 0.00593\n"
     ]
    }
   ],
   "source": [
    "found = False\n",
    "while 1:\n",
    "    submission_list = !kaggle competitions submissions -c coupon-purchase-prediction\n",
    "    for sub_row in submission_list:\n",
    "        if sub_name in sub_row and 'complete' in sub_row:\n",
    "            scores = sub_row[sub_row.find('complete')+10:].split()\n",
    "            print('Private :',scores[1],'\\t|\\tPublic :',scores[0])\n",
    "            found = True\n",
    "            break\n",
    "    if found:\n",
    "        break\n",
    "    sleep(10)"
   ]
  },
  {
   "cell_type": "code",
   "execution_count": null,
   "metadata": {},
   "outputs": [],
   "source": []
  }
 ],
 "metadata": {
  "kernelspec": {
   "display_name": "Python 3",
   "language": "python",
   "name": "python3"
  },
  "language_info": {
   "codemirror_mode": {
    "name": "ipython",
    "version": 3
   },
   "file_extension": ".py",
   "mimetype": "text/x-python",
   "name": "python",
   "nbconvert_exporter": "python",
   "pygments_lexer": "ipython3",
   "version": "3.7.6"
  }
 },
 "nbformat": 4,
 "nbformat_minor": 4
}
