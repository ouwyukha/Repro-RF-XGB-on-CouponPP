{
 "cells": [
  {
   "cell_type": "code",
   "execution_count": 1,
   "metadata": {},
   "outputs": [],
   "source": [
    "import pandas as pd\n",
    "import os\n",
    "import numpy as np\n",
    "import itertools\n",
    "import xgboost as xgb\n",
    "from scipy.spatial.distance import euclidean\n",
    "import joblib\n",
    "import datetime\n",
    "\n",
    "pd.set_option('display.max_columns', None)"
   ]
  },
  {
   "cell_type": "markdown",
   "metadata": {},
   "source": [
    "# Load Data"
   ]
  },
  {
   "cell_type": "code",
   "execution_count": 2,
   "metadata": {},
   "outputs": [],
   "source": [
    "dsdir = 'dataset/coupon-purchase-prediction'"
   ]
  },
  {
   "cell_type": "code",
   "execution_count": 3,
   "metadata": {
    "scrolled": false
   },
   "outputs": [],
   "source": [
    "train = pd.read_csv('CPP_REPRO_cl_train.csv').sample(frac=1, random_state=0).reset_index(drop=True)\n",
    "test =  pd.read_csv('CPP_REPRO_cl_test.csv')\n",
    "submission = pd.read_csv(os.path.join(dsdir,'sample_submission.csv'))"
   ]
  },
  {
   "cell_type": "markdown",
   "metadata": {},
   "source": [
    "# Preprocess Some Columns"
   ]
  },
  {
   "cell_type": "code",
   "execution_count": 4,
   "metadata": {},
   "outputs": [],
   "source": [
    "train.DISPFROM = pd.to_datetime(train.DISPFROM)\n",
    "train.DISPEND = pd.to_datetime(train.DISPEND)\n",
    "train.VALIDFROM = pd.to_datetime(train.VALIDFROM)\n",
    "train.VALIDEND = pd.to_datetime(train.VALIDEND)\n",
    "train.REG_DATE = pd.to_datetime(train.REG_DATE)\n",
    "train.WITHDRAW_DATE = pd.to_datetime(train.WITHDRAW_DATE)\n",
    "\n",
    "test.DISPFROM = pd.to_datetime(test.DISPFROM)\n",
    "test.DISPEND = pd.to_datetime(test.DISPEND)\n",
    "test.VALIDFROM = pd.to_datetime(test.VALIDFROM)\n",
    "test.VALIDEND = pd.to_datetime(test.VALIDEND)\n",
    "test.REG_DATE = pd.to_datetime(test.REG_DATE)\n",
    "test.WITHDRAW_DATE = pd.to_datetime(test.WITHDRAW_DATE)"
   ]
  },
  {
   "cell_type": "code",
   "execution_count": 5,
   "metadata": {},
   "outputs": [],
   "source": [
    "train.drop(['DISPEND', 'VALIDFROM', 'VALIDEND', 'REG_DATE', 'WITHDRAW_DATE'], axis=1, inplace=True)\n",
    "test.drop(['DISPFROM', 'DISPEND', 'VALIDFROM', 'VALIDEND', 'REG_DATE', 'WITHDRAW_DATE'], axis=1, inplace=True)"
   ]
  },
  {
   "cell_type": "code",
   "execution_count": 6,
   "metadata": {},
   "outputs": [],
   "source": [
    "train.drop(['USABLE_DATE_MON', 'USABLE_DATE_TUE', 'USABLE_DATE_WED', 'USABLE_DATE_THU', 'USABLE_DATE_FRI', 'USABLE_DATE_SAT', 'USABLE_DATE_SUN', 'USABLE_DATE_HOLIDAY', 'USABLE_DATE_BEFORE_HOLIDAY'], axis=1, inplace=True)\n",
    "test.drop(['USABLE_DATE_MON', 'USABLE_DATE_TUE', 'USABLE_DATE_WED', 'USABLE_DATE_THU', 'USABLE_DATE_FRI', 'USABLE_DATE_SAT', 'USABLE_DATE_SUN', 'USABLE_DATE_HOLIDAY', 'USABLE_DATE_BEFORE_HOLIDAY'], axis=1, inplace=True)"
   ]
  },
  {
   "cell_type": "code",
   "execution_count": 7,
   "metadata": {},
   "outputs": [],
   "source": [
    "train['SAME_PREF'] = train['PREF_NAME_COUPON'] == train['PREF_NAME_USER']\n",
    "test['SAME_PREF'] =  test['PREF_NAME_COUPON'] == test['PREF_NAME_USER']"
   ]
  },
  {
   "cell_type": "code",
   "execution_count": 8,
   "metadata": {},
   "outputs": [],
   "source": [
    "def calc_euc(row):\n",
    "    return euclidean((row['LATITUDE_COUPON'],row['LONGITUDE_COUPON']),(row['LATITUDE_USER'],row['LONGITUDE_USER']))"
   ]
  },
  {
   "cell_type": "code",
   "execution_count": 9,
   "metadata": {},
   "outputs": [
    {
     "name": "stdout",
     "output_type": "stream",
     "text": [
      "TRAIN-LONGITUDE_DIST\n",
      "TRAIN-LATITUDE_DIST\n",
      "TRAIN-EUCLIDEAN_DIST\n",
      "TEST-LONGITUDE_DIST\n",
      "TEST-LATITUDE_DIST\n",
      "TEST-EUCLIDEAN_DIST\n"
     ]
    }
   ],
   "source": [
    "print('TRAIN-LONGITUDE_DIST')\n",
    "train['LONGITUDE_DIST'] = train.LONGITUDE_COUPON - train.LONGITUDE_USER\n",
    "print('TRAIN-LATITUDE_DIST')\n",
    "train['LATITUDE_DIST'] = train.LATITUDE_COUPON - train.LATITUDE_USER\n",
    "print('TRAIN-EUCLIDEAN_DIST')\n",
    "train['EUCLIDEAN_DIST'] = train.apply(calc_euc,axis=1)\n",
    "\n",
    "print('TEST-LONGITUDE_DIST')\n",
    "test['LONGITUDE_DIST'] = test.LONGITUDE_COUPON - test.LONGITUDE_USER\n",
    "print('TEST-LATITUDE_DIST')\n",
    "test['LATITUDE_DIST'] = test.LATITUDE_COUPON - test.LATITUDE_USER\n",
    "print('TEST-EUCLIDEAN_DIST')\n",
    "test['EUCLIDEAN_DIST'] = test.apply(calc_euc,axis=1)"
   ]
  },
  {
   "cell_type": "code",
   "execution_count": 10,
   "metadata": {},
   "outputs": [],
   "source": [
    "x_train = train.drop(['USER_ID_hash', 'COUPON_ID_hash'],axis=1)\n",
    "\n",
    "x_test = test.drop(['USER_ID_hash', 'COUPON_ID_hash'],axis=1)"
   ]
  },
  {
   "cell_type": "code",
   "execution_count": 11,
   "metadata": {},
   "outputs": [],
   "source": [
    "categoricals = x_train.dtypes[x_train.dtypes == 'object'].index.tolist()"
   ]
  },
  {
   "cell_type": "code",
   "execution_count": 12,
   "metadata": {},
   "outputs": [],
   "source": [
    "x_train_d = pd.get_dummies(x_train, columns=categoricals)\n",
    "x_test_d = pd.get_dummies(x_test, columns=categoricals)\n",
    "\n",
    "x_train_d, x_test_d = x_train_d.align(x_test_d, join='left', axis=1)\n",
    "\n",
    "x_train_d.fillna(0,inplace=True)\n",
    "x_test_d.fillna(0,inplace=True)"
   ]
  },
  {
   "cell_type": "code",
   "execution_count": 13,
   "metadata": {},
   "outputs": [],
   "source": [
    "x_train_d.set_index('DISPFROM', inplace=True)"
   ]
  },
  {
   "cell_type": "code",
   "execution_count": 14,
   "metadata": {},
   "outputs": [],
   "source": [
    "x_test_d.drop(['DISPFROM', 'TARGET'], axis=1, inplace=True)"
   ]
  },
  {
   "cell_type": "markdown",
   "metadata": {},
   "source": [
    "# Split Data by Week"
   ]
  },
  {
   "cell_type": "code",
   "execution_count": 15,
   "metadata": {},
   "outputs": [],
   "source": [
    "train_range = []\n",
    "\n",
    "start = pd.to_datetime('01/08/2012')\n",
    "end = start\n",
    "for i in range(23):\n",
    "    end = end + datetime.timedelta(days=7)"
   ]
  },
  {
   "cell_type": "code",
   "execution_count": 16,
   "metadata": {},
   "outputs": [],
   "source": [
    "xgb_train = x_train_d[(x_train_d.index >= start) & (x_train_d.index < end)]\n",
    "xgb_eval = x_train_d[(x_train_d.index >= end)]"
   ]
  },
  {
   "cell_type": "markdown",
   "metadata": {},
   "source": [
    "# Convert to DMatrix"
   ]
  },
  {
   "cell_type": "code",
   "execution_count": 17,
   "metadata": {},
   "outputs": [],
   "source": [
    "xgb_train = xgb.DMatrix(xgb_train.drop('TARGET', axis=1), label=xgb_train.TARGET.values.reshape(-1))"
   ]
  },
  {
   "cell_type": "code",
   "execution_count": 18,
   "metadata": {},
   "outputs": [],
   "source": [
    "xgb_eval = xgb.DMatrix(xgb_eval.drop('TARGET', axis=1), label=xgb_eval.TARGET.values.reshape(-1))"
   ]
  },
  {
   "cell_type": "markdown",
   "metadata": {},
   "source": [
    "# Train"
   ]
  },
  {
   "cell_type": "code",
   "execution_count": 19,
   "metadata": {
    "scrolled": true
   },
   "outputs": [
    {
     "name": "stdout",
     "output_type": "stream",
     "text": [
      "[0]\ttrain-logloss:0.69217\tvalid-logloss:0.69246\n",
      "Multiple eval metrics have been passed: 'valid-logloss' will be used for early stopping.\n",
      "\n",
      "Will train until valid-logloss hasn't improved in 200 rounds.\n",
      "[100]\ttrain-logloss:0.62600\tvalid-logloss:0.63045\n",
      "[200]\ttrain-logloss:0.57061\tvalid-logloss:0.57886\n",
      "[300]\ttrain-logloss:0.52390\tvalid-logloss:0.53598\n",
      "[400]\ttrain-logloss:0.48413\tvalid-logloss:0.49964\n",
      "[500]\ttrain-logloss:0.45011\tvalid-logloss:0.46829\n",
      "[600]\ttrain-logloss:0.42080\tvalid-logloss:0.44181\n",
      "[700]\ttrain-logloss:0.39510\tvalid-logloss:0.41934\n",
      "[800]\ttrain-logloss:0.37270\tvalid-logloss:0.39914\n",
      "[900]\ttrain-logloss:0.35258\tvalid-logloss:0.38304\n",
      "[1000]\ttrain-logloss:0.33491\tvalid-logloss:0.36918\n",
      "[1100]\ttrain-logloss:0.31920\tvalid-logloss:0.35737\n",
      "[1200]\ttrain-logloss:0.30521\tvalid-logloss:0.34759\n",
      "[1300]\ttrain-logloss:0.29289\tvalid-logloss:0.33976\n",
      "[1400]\ttrain-logloss:0.28201\tvalid-logloss:0.33109\n",
      "[1500]\ttrain-logloss:0.27257\tvalid-logloss:0.32325\n",
      "[1600]\ttrain-logloss:0.26420\tvalid-logloss:0.31667\n",
      "[1700]\ttrain-logloss:0.25669\tvalid-logloss:0.31159\n",
      "[1800]\ttrain-logloss:0.24990\tvalid-logloss:0.30720\n",
      "[1900]\ttrain-logloss:0.24366\tvalid-logloss:0.30345\n",
      "[2000]\ttrain-logloss:0.23802\tvalid-logloss:0.29992\n",
      "[2100]\ttrain-logloss:0.23309\tvalid-logloss:0.29662\n",
      "[2200]\ttrain-logloss:0.22856\tvalid-logloss:0.29403\n",
      "[2300]\ttrain-logloss:0.22444\tvalid-logloss:0.29142\n",
      "[2400]\ttrain-logloss:0.22074\tvalid-logloss:0.28925\n",
      "[2500]\ttrain-logloss:0.21734\tvalid-logloss:0.28747\n",
      "[2600]\ttrain-logloss:0.21420\tvalid-logloss:0.28564\n",
      "[2700]\ttrain-logloss:0.21136\tvalid-logloss:0.28397\n",
      "[2800]\ttrain-logloss:0.20867\tvalid-logloss:0.28255\n",
      "[2900]\ttrain-logloss:0.20604\tvalid-logloss:0.28117\n",
      "[3000]\ttrain-logloss:0.20345\tvalid-logloss:0.27968\n",
      "[3100]\ttrain-logloss:0.20147\tvalid-logloss:0.27871\n",
      "[3200]\ttrain-logloss:0.19955\tvalid-logloss:0.27769\n",
      "[3300]\ttrain-logloss:0.19777\tvalid-logloss:0.27670\n",
      "[3400]\ttrain-logloss:0.19606\tvalid-logloss:0.27610\n",
      "[3500]\ttrain-logloss:0.19438\tvalid-logloss:0.27536\n",
      "[3600]\ttrain-logloss:0.19279\tvalid-logloss:0.27465\n",
      "[3700]\ttrain-logloss:0.19107\tvalid-logloss:0.27414\n",
      "[3800]\ttrain-logloss:0.18945\tvalid-logloss:0.27386\n",
      "[3900]\ttrain-logloss:0.18793\tvalid-logloss:0.27367\n",
      "[4000]\ttrain-logloss:0.18647\tvalid-logloss:0.27350\n",
      "[4100]\ttrain-logloss:0.18508\tvalid-logloss:0.27357\n",
      "[4200]\ttrain-logloss:0.18371\tvalid-logloss:0.27334\n",
      "[4300]\ttrain-logloss:0.18243\tvalid-logloss:0.27304\n",
      "[4400]\ttrain-logloss:0.18125\tvalid-logloss:0.27278\n",
      "[4500]\ttrain-logloss:0.18019\tvalid-logloss:0.27252\n",
      "[4600]\ttrain-logloss:0.17930\tvalid-logloss:0.27243\n",
      "[4700]\ttrain-logloss:0.17846\tvalid-logloss:0.27264\n",
      "Stopping. Best iteration:\n",
      "[4565]\ttrain-logloss:0.17960\tvalid-logloss:0.27239\n",
      "\n"
     ]
    }
   ],
   "source": [
    "xgb_params = {'booster':'gbtree',\n",
    "              'objective': 'binary:logistic',\n",
    "              'eta': 0.001,\n",
    "              'max_depth': 12,\n",
    "              'eval_metric': 'logloss',\n",
    "              'seed': 0\n",
    "             }\n",
    "\n",
    "num_round = 5000\n",
    "\n",
    "watchlist = [(xgb_train, 'train'), (xgb_eval, 'valid')]\n",
    "xgb_model = xgb.train(xgb_params, xgb_train, num_round, watchlist, early_stopping_rounds=200, verbose_eval=100)"
   ]
  },
  {
   "cell_type": "code",
   "execution_count": 20,
   "metadata": {},
   "outputs": [],
   "source": [
    "xgb_model.save_model('CPP_REPO_xgb_model_cut_23_1.model')"
   ]
  },
  {
   "cell_type": "markdown",
   "metadata": {},
   "source": [
    "# Predict"
   ]
  },
  {
   "cell_type": "code",
   "execution_count": 21,
   "metadata": {},
   "outputs": [],
   "source": [
    "xgb_testA = xgb.DMatrix(x_test_d.iloc[:len(x_test_d)//3])\n",
    "xgb_testB = xgb.DMatrix(x_test_d.iloc[len(x_test_d)//3:len(x_test_d)//3*2])\n",
    "xgb_testC = xgb.DMatrix(x_test_d.iloc[len(x_test_d)//3*2:])"
   ]
  },
  {
   "cell_type": "code",
   "execution_count": 22,
   "metadata": {},
   "outputs": [],
   "source": [
    "y_predA = xgb_model.predict(xgb_testA)\n",
    "y_predB = xgb_model.predict(xgb_testB)\n",
    "y_predC = xgb_model.predict(xgb_testC)"
   ]
  },
  {
   "cell_type": "code",
   "execution_count": 23,
   "metadata": {},
   "outputs": [],
   "source": [
    "y_pred = y_predA.tolist() + y_predB.tolist() + y_predC.tolist()"
   ]
  },
  {
   "cell_type": "markdown",
   "metadata": {},
   "source": [
    "# Convert to Submission Format"
   ]
  },
  {
   "cell_type": "code",
   "execution_count": 24,
   "metadata": {},
   "outputs": [
    {
     "name": "stderr",
     "output_type": "stream",
     "text": [
      "C:\\Users\\Yukha\\.conda\\envs\\tensor\\lib\\site-packages\\ipykernel_launcher.py:2: SettingWithCopyWarning: \n",
      "A value is trying to be set on a copy of a slice from a DataFrame.\n",
      "Try using .loc[row_indexer,col_indexer] = value instead\n",
      "\n",
      "See the caveats in the documentation: https://pandas.pydata.org/pandas-docs/stable/user_guide/indexing.html#returning-a-view-versus-a-copy\n",
      "  \n"
     ]
    }
   ],
   "source": [
    "sub = test[['USER_ID_hash','COUPON_ID_hash']]\n",
    "sub['TARGET'] = y_pred"
   ]
  },
  {
   "cell_type": "code",
   "execution_count": 25,
   "metadata": {},
   "outputs": [],
   "source": [
    "grouped = sub.groupby('USER_ID_hash')"
   ]
  },
  {
   "cell_type": "code",
   "execution_count": 26,
   "metadata": {},
   "outputs": [],
   "source": [
    "def get_top10(row):\n",
    "    pred = grouped.get_group(row.USER_ID_hash).sort_values(by=['TARGET'],ascending=False)\n",
    "    pred = ' '.join(map(str, pred.head(10).COUPON_ID_hash.values))\n",
    "    return pred"
   ]
  },
  {
   "cell_type": "code",
   "execution_count": 27,
   "metadata": {},
   "outputs": [],
   "source": [
    "submission['PURCHASED_COUPONS'] = submission.apply(get_top10, axis=1)"
   ]
  },
  {
   "cell_type": "code",
   "execution_count": 28,
   "metadata": {},
   "outputs": [],
   "source": [
    "submission.to_csv('sub_CPP_REPRO_XGB_CUT.csv', index=False)"
   ]
  },
  {
   "cell_type": "code",
   "execution_count": 29,
   "metadata": {},
   "outputs": [
    {
     "data": {
      "text/html": [
       "<div>\n",
       "<style scoped>\n",
       "    .dataframe tbody tr th:only-of-type {\n",
       "        vertical-align: middle;\n",
       "    }\n",
       "\n",
       "    .dataframe tbody tr th {\n",
       "        vertical-align: top;\n",
       "    }\n",
       "\n",
       "    .dataframe thead th {\n",
       "        text-align: right;\n",
       "    }\n",
       "</style>\n",
       "<table border=\"1\" class=\"dataframe\">\n",
       "  <thead>\n",
       "    <tr style=\"text-align: right;\">\n",
       "      <th></th>\n",
       "      <th>USER_ID_hash</th>\n",
       "      <th>PURCHASED_COUPONS</th>\n",
       "    </tr>\n",
       "  </thead>\n",
       "  <tbody>\n",
       "    <tr>\n",
       "      <th>0</th>\n",
       "      <td>0000b53e182165208887ba65c079fc21</td>\n",
       "      <td>1d6cb6629979a1d0e9038c9309c6c41b c9e1dcbd8c98f...</td>\n",
       "    </tr>\n",
       "    <tr>\n",
       "      <th>1</th>\n",
       "      <td>00035b86e6884589ec8d28fbf2fe7757</td>\n",
       "      <td>262572324a598435b68ead0aff867e48 fc5f052a1bd97...</td>\n",
       "    </tr>\n",
       "    <tr>\n",
       "      <th>2</th>\n",
       "      <td>0005b1068d5f2b8f2a7c978fcfe1ca06</td>\n",
       "      <td>1d6cb6629979a1d0e9038c9309c6c41b 5a55bfad2ceef...</td>\n",
       "    </tr>\n",
       "    <tr>\n",
       "      <th>3</th>\n",
       "      <td>000cc06982785a19e2a2fdb40b1c9d59</td>\n",
       "      <td>79de77aa8c36fdf17cb3366e2084e353 0e917a0e87224...</td>\n",
       "    </tr>\n",
       "    <tr>\n",
       "      <th>4</th>\n",
       "      <td>0013518e41c416cd6a181d277dd8ca0b</td>\n",
       "      <td>5c5ed1a52294f8d92c6f152b934cc4d4 c65df9a9bdea0...</td>\n",
       "    </tr>\n",
       "    <tr>\n",
       "      <th>...</th>\n",
       "      <td>...</td>\n",
       "      <td>...</td>\n",
       "    </tr>\n",
       "    <tr>\n",
       "      <th>22868</th>\n",
       "      <td>fff1a623187cefd7a594e338709b0f40</td>\n",
       "      <td>9fe88dabce1401044b09d0642ca4e399 11cd8c9131da2...</td>\n",
       "    </tr>\n",
       "    <tr>\n",
       "      <th>22869</th>\n",
       "      <td>fff4a076cfda6ff9dbe85e1cb678791b</td>\n",
       "      <td>79de77aa8c36fdf17cb3366e2084e353 c76ea297ebd3a...</td>\n",
       "    </tr>\n",
       "    <tr>\n",
       "      <th>22870</th>\n",
       "      <td>fff970d2014c3e10a77e38d540239017</td>\n",
       "      <td>f0685cf6de3c1e1fd86d2f10784b85f5 46da51ba6dd20...</td>\n",
       "    </tr>\n",
       "    <tr>\n",
       "      <th>22871</th>\n",
       "      <td>fffafc024e264d5d539813444cf61199</td>\n",
       "      <td>98dc8da9b3c7ca94aeaa398aef52784f 9fe88dabce140...</td>\n",
       "    </tr>\n",
       "    <tr>\n",
       "      <th>22872</th>\n",
       "      <td>ffff56dbf3c782c3532f88c6c79817ba</td>\n",
       "      <td>79de77aa8c36fdf17cb3366e2084e353 c76ea297ebd3a...</td>\n",
       "    </tr>\n",
       "  </tbody>\n",
       "</table>\n",
       "<p>22873 rows × 2 columns</p>\n",
       "</div>"
      ],
      "text/plain": [
       "                           USER_ID_hash  \\\n",
       "0      0000b53e182165208887ba65c079fc21   \n",
       "1      00035b86e6884589ec8d28fbf2fe7757   \n",
       "2      0005b1068d5f2b8f2a7c978fcfe1ca06   \n",
       "3      000cc06982785a19e2a2fdb40b1c9d59   \n",
       "4      0013518e41c416cd6a181d277dd8ca0b   \n",
       "...                                 ...   \n",
       "22868  fff1a623187cefd7a594e338709b0f40   \n",
       "22869  fff4a076cfda6ff9dbe85e1cb678791b   \n",
       "22870  fff970d2014c3e10a77e38d540239017   \n",
       "22871  fffafc024e264d5d539813444cf61199   \n",
       "22872  ffff56dbf3c782c3532f88c6c79817ba   \n",
       "\n",
       "                                       PURCHASED_COUPONS  \n",
       "0      1d6cb6629979a1d0e9038c9309c6c41b c9e1dcbd8c98f...  \n",
       "1      262572324a598435b68ead0aff867e48 fc5f052a1bd97...  \n",
       "2      1d6cb6629979a1d0e9038c9309c6c41b 5a55bfad2ceef...  \n",
       "3      79de77aa8c36fdf17cb3366e2084e353 0e917a0e87224...  \n",
       "4      5c5ed1a52294f8d92c6f152b934cc4d4 c65df9a9bdea0...  \n",
       "...                                                  ...  \n",
       "22868  9fe88dabce1401044b09d0642ca4e399 11cd8c9131da2...  \n",
       "22869  79de77aa8c36fdf17cb3366e2084e353 c76ea297ebd3a...  \n",
       "22870  f0685cf6de3c1e1fd86d2f10784b85f5 46da51ba6dd20...  \n",
       "22871  98dc8da9b3c7ca94aeaa398aef52784f 9fe88dabce140...  \n",
       "22872  79de77aa8c36fdf17cb3366e2084e353 c76ea297ebd3a...  \n",
       "\n",
       "[22873 rows x 2 columns]"
      ]
     },
     "execution_count": 29,
     "metadata": {},
     "output_type": "execute_result"
    }
   ],
   "source": [
    "submission"
   ]
  },
  {
   "cell_type": "code",
   "execution_count": null,
   "metadata": {},
   "outputs": [],
   "source": []
  }
 ],
 "metadata": {
  "kernelspec": {
   "display_name": "Python 3",
   "language": "python",
   "name": "python3"
  },
  "language_info": {
   "codemirror_mode": {
    "name": "ipython",
    "version": 3
   },
   "file_extension": ".py",
   "mimetype": "text/x-python",
   "name": "python",
   "nbconvert_exporter": "python",
   "pygments_lexer": "ipython3",
   "version": "3.7.6"
  }
 },
 "nbformat": 4,
 "nbformat_minor": 4
}
