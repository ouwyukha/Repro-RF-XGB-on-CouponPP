{
 "cells": [
  {
   "cell_type": "code",
   "execution_count": 1,
   "metadata": {},
   "outputs": [],
   "source": [
    "import pandas as pd\n",
    "import os\n",
    "import numpy as np\n",
    "import itertools\n",
    "import xgboost as xgb\n",
    "import joblib\n",
    "import datetime\n",
    "\n",
    "pd.set_option('display.max_columns', None)"
   ]
  },
  {
   "cell_type": "markdown",
   "metadata": {},
   "source": [
    "# Load Dataset"
   ]
  },
  {
   "cell_type": "code",
   "execution_count": 2,
   "metadata": {},
   "outputs": [],
   "source": [
    "dsdir = 'dataset/coupon-purchase-prediction'\n",
    "\n",
    "submission = pd.read_csv(os.path.join(dsdir,'sample_submission.csv'))\n",
    "\n",
    "train = joblib.load('world/train.pkl').sample(frac=1, random_state=0).reset_index(drop=True)\n",
    "test = joblib.load('world/test.pkl')\n",
    "\n",
    "train.SEX_ID = train.SEX_ID.astype(np.uint8)\n",
    "test.SEX_ID = test.SEX_ID.astype(np.uint8)\n",
    "\n",
    "train.drop(['COUPON_ID_hash','USER_ID_hash'], axis=1, inplace=True)\n",
    "sub = test[['USER_ID_hash','COUPON_ID_hash']].copy()\n",
    "test.drop(['COUPON_ID_hash','USER_ID_hash', 'DISPFROM', 'PURCHASE_FLG'], axis=1, inplace=True)"
   ]
  },
  {
   "cell_type": "code",
   "execution_count": 3,
   "metadata": {},
   "outputs": [
    {
     "name": "stdout",
     "output_type": "stream",
     "text": [
      "22873\n",
      "310\n"
     ]
    }
   ],
   "source": [
    "print(len(sub.USER_ID_hash.unique()))\n",
    "print(len(sub.COUPON_ID_hash.unique()))"
   ]
  },
  {
   "cell_type": "code",
   "execution_count": 4,
   "metadata": {},
   "outputs": [],
   "source": [
    "train.set_index('DISPFROM', inplace=True)\n",
    "train.index = pd.to_datetime(train.index)"
   ]
  },
  {
   "cell_type": "markdown",
   "metadata": {},
   "source": [
    "# Get Train Val"
   ]
  },
  {
   "cell_type": "code",
   "execution_count": 5,
   "metadata": {},
   "outputs": [],
   "source": [
    "train_range = []\n",
    "\n",
    "start = pd.to_datetime('01/08/2012')\n",
    "end = start\n",
    "for i in range(23):\n",
    "    end = end + datetime.timedelta(days=7)"
   ]
  },
  {
   "cell_type": "code",
   "execution_count": 6,
   "metadata": {},
   "outputs": [],
   "source": [
    "xgb_train = train[(train.index >= start) & (train.index < end)]\n",
    "xgb_eval = train[(train.index >= end)]"
   ]
  },
  {
   "cell_type": "code",
   "execution_count": 7,
   "metadata": {},
   "outputs": [
    {
     "name": "stdout",
     "output_type": "stream",
     "text": [
      "3234269 545442\n",
      "112892 17724\n"
     ]
    }
   ],
   "source": [
    "print(len(xgb_train[xgb_train.PURCHASE_FLG==0]),len(xgb_train[xgb_train.PURCHASE_FLG==1]))\n",
    "print(len(xgb_eval[xgb_eval.PURCHASE_FLG==0]),len(xgb_eval[xgb_eval.PURCHASE_FLG==1]))"
   ]
  },
  {
   "cell_type": "code",
   "execution_count": 8,
   "metadata": {},
   "outputs": [],
   "source": [
    "xgb_train = xgb.DMatrix(xgb_train.drop('PURCHASE_FLG', axis=1), label=xgb_train.PURCHASE_FLG.values.reshape(-1))"
   ]
  },
  {
   "cell_type": "code",
   "execution_count": 9,
   "metadata": {},
   "outputs": [],
   "source": [
    "xgb_eval = xgb.DMatrix(xgb_eval.drop('PURCHASE_FLG', axis=1), label=xgb_eval.PURCHASE_FLG.values.reshape(-1))"
   ]
  },
  {
   "cell_type": "markdown",
   "metadata": {},
   "source": [
    "# Train"
   ]
  },
  {
   "cell_type": "code",
   "execution_count": 10,
   "metadata": {},
   "outputs": [
    {
     "name": "stdout",
     "output_type": "stream",
     "text": [
      "[0]\ttrain-logloss:0.68811\tvalid-logloss:0.68887\n",
      "Multiple eval metrics have been passed: 'valid-logloss' will be used for early stopping.\n",
      "\n",
      "Will train until valid-logloss hasn't improved in 200 rounds.\n",
      "[100]\ttrain-logloss:0.40752\tvalid-logloss:0.40760\n",
      "[200]\ttrain-logloss:0.27710\tvalid-logloss:0.27785\n",
      "[300]\ttrain-logloss:0.20989\tvalid-logloss:0.21150\n",
      "[400]\ttrain-logloss:0.17386\tvalid-logloss:0.17671\n",
      "[500]\ttrain-logloss:0.15406\tvalid-logloss:0.15825\n",
      "[600]\ttrain-logloss:0.14296\tvalid-logloss:0.14854\n",
      "[700]\ttrain-logloss:0.13658\tvalid-logloss:0.14353\n",
      "[800]\ttrain-logloss:0.13277\tvalid-logloss:0.14100\n",
      "[900]\ttrain-logloss:0.13024\tvalid-logloss:0.13981\n",
      "[1000]\ttrain-logloss:0.12859\tvalid-logloss:0.13924\n",
      "[1100]\ttrain-logloss:0.12741\tvalid-logloss:0.13894\n",
      "[1200]\ttrain-logloss:0.12648\tvalid-logloss:0.13885\n",
      "[1300]\ttrain-logloss:0.12577\tvalid-logloss:0.13886\n",
      "[1400]\ttrain-logloss:0.12509\tvalid-logloss:0.13883\n",
      "[1500]\ttrain-logloss:0.12451\tvalid-logloss:0.13881\n",
      "[1600]\ttrain-logloss:0.12399\tvalid-logloss:0.13882\n",
      "[1700]\ttrain-logloss:0.12356\tvalid-logloss:0.13886\n",
      "Stopping. Best iteration:\n",
      "[1532]\ttrain-logloss:0.12434\tvalid-logloss:0.13880\n",
      "\n"
     ]
    }
   ],
   "source": [
    "xgb_params = {'booster':'gbtree',\n",
    "              'objective': 'binary:logistic',\n",
    "              'eta': 0.005,\n",
    "              'max_depth': 12,\n",
    "              'eval_metric': 'logloss'\n",
    "             }\n",
    "\n",
    "num_round = 5000\n",
    "\n",
    "watchlist = [(xgb_train, 'train'), (xgb_eval, 'valid')]\n",
    "xgb_model = xgb.train(xgb_params, xgb_train, num_round, watchlist, early_stopping_rounds=200, verbose_eval=100)"
   ]
  },
  {
   "cell_type": "code",
   "execution_count": 11,
   "metadata": {},
   "outputs": [],
   "source": [
    "xgb_model.save_model('CPP_REPO_xgb_new_world_23-1.model')"
   ]
  },
  {
   "cell_type": "markdown",
   "metadata": {},
   "source": [
    "# Predict"
   ]
  },
  {
   "cell_type": "code",
   "execution_count": 12,
   "metadata": {},
   "outputs": [],
   "source": [
    "xgb_testA = xgb.DMatrix(test.iloc[:len(test)//3])\n",
    "xgb_testB = xgb.DMatrix(test.iloc[len(test)//3:len(test)//3*2])\n",
    "xgb_testC = xgb.DMatrix(test.iloc[len(test)//3*2:])"
   ]
  },
  {
   "cell_type": "code",
   "execution_count": 13,
   "metadata": {},
   "outputs": [],
   "source": [
    "y_predA = xgb_model.predict(xgb_testA)\n",
    "y_predB = xgb_model.predict(xgb_testB)\n",
    "y_predC = xgb_model.predict(xgb_testC)"
   ]
  },
  {
   "cell_type": "code",
   "execution_count": 14,
   "metadata": {},
   "outputs": [],
   "source": [
    "y_pred = y_predA.tolist() + y_predB.tolist() + y_predC.tolist()"
   ]
  },
  {
   "cell_type": "markdown",
   "metadata": {},
   "source": [
    "# Convert to Submission Format"
   ]
  },
  {
   "cell_type": "code",
   "execution_count": 15,
   "metadata": {},
   "outputs": [],
   "source": [
    "sub['PURCHASE_FLG'] = y_pred"
   ]
  },
  {
   "cell_type": "code",
   "execution_count": null,
   "metadata": {},
   "outputs": [],
   "source": [
    "sub.sort_values(\"PURCHASE_FLG\", inplace = True, ascending=False)\n",
    "sub.drop_duplicates(subset =['USER_ID_hash', 'COUPON_ID_hash'], inplace = True) "
   ]
  },
  {
   "cell_type": "code",
   "execution_count": 16,
   "metadata": {},
   "outputs": [],
   "source": [
    "grouped = sub.groupby('USER_ID_hash')"
   ]
  },
  {
   "cell_type": "code",
   "execution_count": 17,
   "metadata": {},
   "outputs": [],
   "source": [
    "def get_top10(row):\n",
    "    pred = grouped.get_group(row.USER_ID_hash).sort_values(by=['PURCHASE_FLG'],ascending=False)\n",
    "    pred = ' '.join(map(str, pred.head(10).COUPON_ID_hash.values))\n",
    "    return pred"
   ]
  },
  {
   "cell_type": "code",
   "execution_count": 20,
   "metadata": {},
   "outputs": [],
   "source": [
    "submission['PURCHASED_COUPONS'] = submission.apply(get_top10, axis=1)"
   ]
  },
  {
   "cell_type": "code",
   "execution_count": 21,
   "metadata": {},
   "outputs": [],
   "source": [
    "submission.to_csv('sub_CPP_REPRO_XGB_new_world.csv', index=False)"
   ]
  },
  {
   "cell_type": "code",
   "execution_count": 22,
   "metadata": {},
   "outputs": [
    {
     "data": {
      "text/html": [
       "<div>\n",
       "<style scoped>\n",
       "    .dataframe tbody tr th:only-of-type {\n",
       "        vertical-align: middle;\n",
       "    }\n",
       "\n",
       "    .dataframe tbody tr th {\n",
       "        vertical-align: top;\n",
       "    }\n",
       "\n",
       "    .dataframe thead th {\n",
       "        text-align: right;\n",
       "    }\n",
       "</style>\n",
       "<table border=\"1\" class=\"dataframe\">\n",
       "  <thead>\n",
       "    <tr style=\"text-align: right;\">\n",
       "      <th></th>\n",
       "      <th>USER_ID_hash</th>\n",
       "      <th>PURCHASED_COUPONS</th>\n",
       "    </tr>\n",
       "  </thead>\n",
       "  <tbody>\n",
       "    <tr>\n",
       "      <th>0</th>\n",
       "      <td>0000b53e182165208887ba65c079fc21</td>\n",
       "      <td>42cc500acba3c79883cfd40adcd5ae96 42cc500acba3c...</td>\n",
       "    </tr>\n",
       "    <tr>\n",
       "      <th>1</th>\n",
       "      <td>00035b86e6884589ec8d28fbf2fe7757</td>\n",
       "      <td>5e47b887e154f746883013f863c3ffe1 05c58bb36b58b...</td>\n",
       "    </tr>\n",
       "    <tr>\n",
       "      <th>2</th>\n",
       "      <td>0005b1068d5f2b8f2a7c978fcfe1ca06</td>\n",
       "      <td>2af19a2244a2c2466b87b98e065cdfa7 9193590f0f6d2...</td>\n",
       "    </tr>\n",
       "    <tr>\n",
       "      <th>3</th>\n",
       "      <td>000cc06982785a19e2a2fdb40b1c9d59</td>\n",
       "      <td>42cc500acba3c79883cfd40adcd5ae96 42cc500acba3c...</td>\n",
       "    </tr>\n",
       "    <tr>\n",
       "      <th>4</th>\n",
       "      <td>0013518e41c416cd6a181d277dd8ca0b</td>\n",
       "      <td>5e47b887e154f746883013f863c3ffe1 5e47b887e154f...</td>\n",
       "    </tr>\n",
       "    <tr>\n",
       "      <th>...</th>\n",
       "      <td>...</td>\n",
       "      <td>...</td>\n",
       "    </tr>\n",
       "    <tr>\n",
       "      <th>22868</th>\n",
       "      <td>fff1a623187cefd7a594e338709b0f40</td>\n",
       "      <td>0c015306597566b632bebfb63b7e59f3 c988d799bc7db...</td>\n",
       "    </tr>\n",
       "    <tr>\n",
       "      <th>22869</th>\n",
       "      <td>fff4a076cfda6ff9dbe85e1cb678791b</td>\n",
       "      <td>42cc500acba3c79883cfd40adcd5ae96 42cc500acba3c...</td>\n",
       "    </tr>\n",
       "    <tr>\n",
       "      <th>22870</th>\n",
       "      <td>fff970d2014c3e10a77e38d540239017</td>\n",
       "      <td>42cc500acba3c79883cfd40adcd5ae96 42cc500acba3c...</td>\n",
       "    </tr>\n",
       "    <tr>\n",
       "      <th>22871</th>\n",
       "      <td>fffafc024e264d5d539813444cf61199</td>\n",
       "      <td>51da52d5516033bea13972588b671184 51da52d551603...</td>\n",
       "    </tr>\n",
       "    <tr>\n",
       "      <th>22872</th>\n",
       "      <td>ffff56dbf3c782c3532f88c6c79817ba</td>\n",
       "      <td>5e47b887e154f746883013f863c3ffe1 5e47b887e154f...</td>\n",
       "    </tr>\n",
       "  </tbody>\n",
       "</table>\n",
       "<p>22873 rows × 2 columns</p>\n",
       "</div>"
      ],
      "text/plain": [
       "                           USER_ID_hash  \\\n",
       "0      0000b53e182165208887ba65c079fc21   \n",
       "1      00035b86e6884589ec8d28fbf2fe7757   \n",
       "2      0005b1068d5f2b8f2a7c978fcfe1ca06   \n",
       "3      000cc06982785a19e2a2fdb40b1c9d59   \n",
       "4      0013518e41c416cd6a181d277dd8ca0b   \n",
       "...                                 ...   \n",
       "22868  fff1a623187cefd7a594e338709b0f40   \n",
       "22869  fff4a076cfda6ff9dbe85e1cb678791b   \n",
       "22870  fff970d2014c3e10a77e38d540239017   \n",
       "22871  fffafc024e264d5d539813444cf61199   \n",
       "22872  ffff56dbf3c782c3532f88c6c79817ba   \n",
       "\n",
       "                                       PURCHASED_COUPONS  \n",
       "0      42cc500acba3c79883cfd40adcd5ae96 42cc500acba3c...  \n",
       "1      5e47b887e154f746883013f863c3ffe1 05c58bb36b58b...  \n",
       "2      2af19a2244a2c2466b87b98e065cdfa7 9193590f0f6d2...  \n",
       "3      42cc500acba3c79883cfd40adcd5ae96 42cc500acba3c...  \n",
       "4      5e47b887e154f746883013f863c3ffe1 5e47b887e154f...  \n",
       "...                                                  ...  \n",
       "22868  0c015306597566b632bebfb63b7e59f3 c988d799bc7db...  \n",
       "22869  42cc500acba3c79883cfd40adcd5ae96 42cc500acba3c...  \n",
       "22870  42cc500acba3c79883cfd40adcd5ae96 42cc500acba3c...  \n",
       "22871  51da52d5516033bea13972588b671184 51da52d551603...  \n",
       "22872  5e47b887e154f746883013f863c3ffe1 5e47b887e154f...  \n",
       "\n",
       "[22873 rows x 2 columns]"
      ]
     },
     "execution_count": 22,
     "metadata": {},
     "output_type": "execute_result"
    }
   ],
   "source": [
    "submission"
   ]
  }
 ],
 "metadata": {
  "kernelspec": {
   "display_name": "Python 3",
   "language": "python",
   "name": "python3"
  },
  "language_info": {
   "codemirror_mode": {
    "name": "ipython",
    "version": 3
   },
   "file_extension": ".py",
   "mimetype": "text/x-python",
   "name": "python",
   "nbconvert_exporter": "python",
   "pygments_lexer": "ipython3",
   "version": "3.7.6"
  }
 },
 "nbformat": 4,
 "nbformat_minor": 4
}
